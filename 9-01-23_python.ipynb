{
 "cells": [
  {
   "cell_type": "code",
   "execution_count": 2,
   "id": "36be4d06",
   "metadata": {},
   "outputs": [
    {
     "name": "stdout",
     "output_type": "stream",
     "text": [
      "8\n",
      "10 98 3 33 12 22 21 11\n",
      "10 98 12 22 3 33 21 11 "
     ]
    }
   ],
   "source": [
    "'''You are playing an online game. In the game, a list of N numbers is given. \n",
    "The player has to arrange the numbers so that all the odd numbers of the list come after the even numbers. \n",
    "Write an algorithm to arrange the given list such that all the odd numbers of the list come after the even numbers.\n",
    "\n",
    "Input\n",
    "\n",
    "The first line of the input consists of an integer numbers, representing the size of the list(N).\n",
    "The second line of the input consists of N space-separated integers representing the values of the list\n",
    "Output\n",
    "\n",
    "Print N space-separated integers such that all the odd numbers of the list come after the even numbers\n",
    "\n",
    "Example\n",
    "\n",
    "Sample Input\n",
    "\n",
    "8\n",
    "\n",
    "10 98 3 33 12 22 21 11\n",
    "\n",
    "Sample Output\n",
    "\n",
    "10 98 12 22 3 33 21 11 '''\n",
    "\n",
    "n=int(input())\n",
    "if(n<=0):\n",
    "    print(\"Invalid Input\")\n",
    "    quit()\n",
    "x=input().split()\n",
    "x=[int(i) for i in x]\n",
    "o=[]\n",
    "e=[]\n",
    "for i in range(0,n):\n",
    "    if(x[i]%2==0):\n",
    "        e.append(x[i])\n",
    "    else:\n",
    "        o.append(x[i])\n",
    "        \n",
    "#e.sort()\n",
    "#o.sort()\n",
    "x=[]\n",
    "l=e+o\n",
    "for i in l:\n",
    "    print(i,end=\" \")"
   ]
  },
  {
   "cell_type": "code",
   "execution_count": 7,
   "id": "b94abe2a",
   "metadata": {},
   "outputs": [
    {
     "name": "stdout",
     "output_type": "stream",
     "text": [
      "{'name': 'ABC', 'age': 100, 'branch': 'aeronautical'}\n"
     ]
    }
   ],
   "source": [
    "'''write a program to combine list to a dictionary to form a hash table\n",
    "input: keys=['name','age','branch']\n",
    "       values=['ABC',100,'aeronautical']'''\n",
    "keys=['name','age','branch']\n",
    "values=['ABC',100,'aeronautical']\n",
    "outsource=zip(keys,values)\n",
    "abc=dict(outsource)\n",
    "print(abc)"
   ]
  },
  {
   "cell_type": "code",
   "execution_count": 12,
   "id": "abe1542f",
   "metadata": {},
   "outputs": [
    {
     "name": "stdout",
     "output_type": "stream",
     "text": [
      "Sparse Matrix\n",
      "\n",
      "\n",
      "0 0 0 1 0 \n",
      "\n",
      "2 0 0 0 1 \n",
      "\n",
      "0 0 0 4 0 \n",
      "\n",
      " Sparse Matrix can be efficiently represented as Dictionary :\n",
      "{(0, 3): 1, (1, 0): 2, (1, 4): 1, (2, 3): 4}\n"
     ]
    }
   ],
   "source": [
    "'''write a program to store a sparse matrix in a dictionary\n",
    "example:[[0,0,0,1,0],\n",
    "         [2,0,0,0,1],\n",
    "         [0,0,0,4,0]]'''\n",
    "matrix=[[0,0,0,1,0],\n",
    "         [2,0,0,0,1],\n",
    "         [0,0,0,4,0]]\n",
    "Dict={}\n",
    "print(\"Sparse Matrix\")\n",
    "for i in range (len(matrix)):\n",
    "     print(\"\\n\")\n",
    "     for j in range(len(matrix[i])):\n",
    "         print(matrix[i][j],end=' ')\n",
    "         if matrix[i][j]!=0:\n",
    "            Dict[(i,j)]=matrix[i][j]\n",
    "print(\"\\n\\n Sparse Matrix can be efficiently represented as Dictionary :\")\n",
    "print(Dict)"
   ]
  },
  {
   "cell_type": "code",
   "execution_count": 13,
   "id": "e9bef307",
   "metadata": {},
   "outputs": [
    {
     "name": "stdout",
     "output_type": "stream",
     "text": [
      "{(0, 3): 1, (1, 0): 2, (1, 4): 3, (2, 3): 4}\n"
     ]
    }
   ],
   "source": [
    "a=[[0,0,0,1,0],[2,0,0,0,3],[0,0,0,4,0]]\n",
    "d={}\n",
    "for i in range(len(a)):\n",
    "    for j in range(len(a[i])):\n",
    "        if(a[i][j]!=0):\n",
    "            d[i,j]=a[i][j]\n",
    "                   \n",
    "print(d)"
   ]
  },
  {
   "cell_type": "code",
   "execution_count": 14,
   "id": "6ee86054",
   "metadata": {},
   "outputs": [
    {
     "name": "stdout",
     "output_type": "stream",
     "text": [
      "the non-repeated char is  v\n"
     ]
    }
   ],
   "source": [
    "'''write a non-repeated character in a string \n",
    "example: i/p: 1.level\n",
    "         o/p: 2. v'''\n",
    "str='level'\n",
    "for i in str:\n",
    "    count=0\n",
    "    for j in str:\n",
    "        if i==j:\n",
    "            count+=1\n",
    "        if count>1:\n",
    "            break\n",
    "    if count==1:\n",
    "        print('the non-repeated char is ',i)"
   ]
  },
  {
   "cell_type": "code",
   "execution_count": 15,
   "id": "40a76ba2",
   "metadata": {},
   "outputs": [
    {
     "name": "stdout",
     "output_type": "stream",
     "text": [
      "level\n",
      "v "
     ]
    }
   ],
   "source": [
    "str=input()\n",
    "for i in range(len(str)):\n",
    "    if(str.count(str[i])==1):\n",
    "        print(str[i],end=\" \")"
   ]
  },
  {
   "cell_type": "code",
   "execution_count": 23,
   "id": "e5a432b9",
   "metadata": {},
   "outputs": [
    {
     "name": "stdout",
     "output_type": "stream",
     "text": [
      "1\n",
      "3\n",
      "5\n",
      "8\n",
      "None\n"
     ]
    }
   ],
   "source": [
    "'''write a program to insert delete a node in a single linked list'''\n",
    "class node:\n",
    "    def __init__(self,num):\n",
    "        self.num=num\n",
    "        self.next=None\n",
    "class list:\n",
    "    def __init__(self):\n",
    "        self.head=None\n",
    "    def push(self, newnum):\n",
    "        newnode=node(newnum)\n",
    "        newnode.next=self.head\n",
    "        self.head=newnode\n",
    "    def insertnext(self,prenode,newnode):\n",
    "        if prenode is None:\n",
    "            print('the previous node')\n",
    "            return\n",
    "        newnode=node(newnum)\n",
    "        newnode.next=prenode.next\n",
    "        prenode.next=newnode\n",
    "    def append(self,newnum):\n",
    "        newnode=node(newnum)\n",
    "        if self.head is None:\n",
    "            self.head=newnode\n",
    "            return\n",
    "        last=self.head\n",
    "        while(last.next):\n",
    "            last=last.next\n",
    "        last.next=newnode\n",
    "    def printnum(self):\n",
    "        t=self.head\n",
    "        while(t):\n",
    "            print(t.num)\n",
    "            t=t.next\n",
    "if __name__=='__main__':\n",
    "    l1=list()\n",
    "    l1.append(1)\n",
    "    l1.append(3)\n",
    "    l1.append(5)\n",
    "    l1.append(8)\n",
    "    print(l1.printnum())"
   ]
  },
  {
   "cell_type": "code",
   "execution_count": null,
   "id": "be628fa4",
   "metadata": {},
   "outputs": [],
   "source": []
  }
 ],
 "metadata": {
  "kernelspec": {
   "display_name": "Python 3 (ipykernel)",
   "language": "python",
   "name": "python3"
  },
  "language_info": {
   "codemirror_mode": {
    "name": "ipython",
    "version": 3
   },
   "file_extension": ".py",
   "mimetype": "text/x-python",
   "name": "python",
   "nbconvert_exporter": "python",
   "pygments_lexer": "ipython3",
   "version": "3.9.12"
  }
 },
 "nbformat": 4,
 "nbformat_minor": 5
}
