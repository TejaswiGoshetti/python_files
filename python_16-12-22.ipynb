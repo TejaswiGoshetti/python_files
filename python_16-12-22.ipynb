{
 "cells": [
  {
   "cell_type": "markdown",
   "id": "9f893275",
   "metadata": {},
   "source": [
    "#  oop\n",
    "# class and object"
   ]
  },
  {
   "cell_type": "code",
   "execution_count": 1,
   "id": "7fa3ad07",
   "metadata": {},
   "outputs": [
    {
     "name": "stdout",
     "output_type": "stream",
     "text": [
      "22\n"
     ]
    }
   ],
   "source": [
    "# program to access a class var using a class object\n",
    "class abc:\n",
    "    var=22\n",
    "obj=abc()\n",
    "print(obj.var)"
   ]
  },
  {
   "cell_type": "code",
   "execution_count": 5,
   "id": "2970bc18",
   "metadata": {},
   "outputs": [
    {
     "name": "stdout",
     "output_type": "stream",
     "text": [
      "22\n",
      "This is called method\n"
     ]
    }
   ],
   "source": [
    "# program to access a class member using a class object\n",
    "class abc:\n",
    "    var=22\n",
    "    def display(self):\n",
    "        print('This is called method')\n",
    "obj=abc()\n",
    "print(obj.var)\n",
    "obj.display()"
   ]
  },
  {
   "cell_type": "code",
   "execution_count": 7,
   "id": "fd5f9c8c",
   "metadata": {},
   "outputs": [
    {
     "name": "stdout",
     "output_type": "stream",
     "text": [
      "in class method\n",
      "the value is: 10\n"
     ]
    }
   ],
   "source": [
    "#program to illustrate the constructor\n",
    "#__init__()....method\n",
    "class abc:\n",
    "    def __init__(self,val):    #self argument is default for every constructor\n",
    "        print(\"in class method\")\n",
    "        self.val=val    #for 2 values self.val1,val2\n",
    "        print('the value is:',val)    \n",
    "obj=abc(10)   #for 2 parameters (10,20)"
   ]
  },
  {
   "cell_type": "code",
   "execution_count": 8,
   "id": "557ce02d",
   "metadata": {},
   "outputs": [
    {
     "name": "stdout",
     "output_type": "stream",
     "text": [
      "The object variable is 10\n",
      "The class variable is 1\n",
      "The object variable is 20\n",
      "The class variable is 2\n",
      "The object variable is 30\n",
      "The class variable is 3\n"
     ]
    }
   ],
   "source": [
    "#program to differentiate class and obj variable\n",
    "class abc():\n",
    "    class_var=0   #class variable\n",
    "    def __init__(self,var):\n",
    "        abc.class_var+=1\n",
    "        self.var=var   #object variable\n",
    "        print('The object variable is',var)\n",
    "        print('The class variable is',abc.class_var)\n",
    "obj1=abc(10)\n",
    "obj2=abc(20)\n",
    "obj3=abc(30)"
   ]
  },
  {
   "cell_type": "code",
   "execution_count": 37,
   "id": "41e1a7b4",
   "metadata": {},
   "outputs": [
    {
     "name": "stdout",
     "output_type": "stream",
     "text": [
      "20\n",
      "20 is even\n"
     ]
    }
   ],
   "source": [
    "#program illustrating a modification on numerics\n",
    "class number:\n",
    "    even=0  #default val\n",
    "    def check(self,num):\n",
    "        if num%2==0:\n",
    "            self.even=1\n",
    "    def even_odd(self,num):\n",
    "        self.check(num)\n",
    "        if self.even==1:\n",
    "            print(num,'is even')\n",
    "        else:\n",
    "            print(num,'is odd')\n",
    "obj=number()\n",
    "n=int(input())\n",
    "obj.even_odd(n)"
   ]
  },
  {
   "cell_type": "code",
   "execution_count": 86,
   "id": "24d4c2b3",
   "metadata": {},
   "outputs": [
    {
     "ename": "SyntaxError",
     "evalue": "invalid syntax (1456097067.py, line 7)",
     "output_type": "error",
     "traceback": [
      "\u001b[1;36m  Input \u001b[1;32mIn [86]\u001b[1;36m\u001b[0m\n\u001b[1;33m    if m[]%2==0:\u001b[0m\n\u001b[1;37m         ^\u001b[0m\n\u001b[1;31mSyntaxError\u001b[0m\u001b[1;31m:\u001b[0m invalid syntax\n"
     ]
    }
   ],
   "source": [
    "\n",
    "class number1():\n",
    "    even=[]\n",
    "    odd=[]\n",
    "    def __init__(self,m):\n",
    "        self.m=m\n",
    "        #for i in range(0,n):\n",
    "        if m[]%2==0:\n",
    "            number1.even.append(m)\n",
    "        else:\n",
    "            number1.odd.append(m)\n",
    "n=int(input())\n",
    "m=[]\n",
    "for i in range(0,n):\n",
    "    x=input()\n",
    "    m.append(x)\n",
    "print(m)\n",
    "obj= number1(m)\n",
    "print(number1.even)\n",
    "print(number1.odd)"
   ]
  },
  {
   "cell_type": "code",
   "execution_count": 52,
   "id": "b5ac78e8",
   "metadata": {},
   "outputs": [
    {
     "name": "stdout",
     "output_type": "stream",
     "text": [
      "evens [32, 10]\n",
      "odds [21, 7, 3]\n"
     ]
    }
   ],
   "source": [
    "class number:\n",
    "    even=[]\n",
    "    odd=[]\n",
    "    def __init__(self,num):\n",
    "        self.num=num\n",
    "        if num%2==0:\n",
    "            number.even.append(num)\n",
    "        else:\n",
    "            number.odd.append(num)\n",
    "n1=number(21)\n",
    "n2=number(32)\n",
    "n3=number(10)\n",
    "n4=number(7)\n",
    "n5=number(3)\n",
    "print('evens',number.even)\n",
    "print('odds',number.odd)"
   ]
  },
  {
   "cell_type": "code",
   "execution_count": 102,
   "id": "731a0c1c",
   "metadata": {},
   "outputs": [
    {
     "name": "stdout",
     "output_type": "stream",
     "text": [
      "the obj value is 11\n",
      "the class value 1\n",
      "the obj value is 22\n",
      "the class value 2\n",
      "the obj value is 33\n",
      "the class value 3\n",
      "object with value %d is going out of action 11\n",
      "object with value %d is going out of action 22\n",
      "object with value %d is going out of action 33\n"
     ]
    }
   ],
   "source": [
    "#delete method --c++/java analogus to destructors\n",
    "#general systax__del__\n",
    "class abc():\n",
    "    class_var=0\n",
    "    def __init__(self,var):\n",
    "        abc.class_var+=1\n",
    "        self.var=var\n",
    "        print('the obj value is',var)\n",
    "        print('the class value',abc.class_var)\n",
    "    def __del__(self):\n",
    "        abc.class_var-=1\n",
    "        print('object with value %d is going out of action',self.var)\n",
    "obj1=abc(11)\n",
    "obj2=abc(22)\n",
    "obj3=abc(33)\n",
    "del obj1\n",
    "del obj2\n",
    "del obj3"
   ]
  },
  {
   "cell_type": "code",
   "execution_count": 66,
   "id": "8570d4e9",
   "metadata": {},
   "outputs": [
    {
     "name": "stdout",
     "output_type": "stream",
     "text": [
      "4\n",
      "[1, 2, 3, 4, 5, 6, 7, 8, 9]\n",
      "[1, 2, 3, 10, 5, 6, 7, 8, 9]\n",
      "10\n"
     ]
    }
   ],
   "source": [
    "#program to demonstrate get and set items in a list\n",
    "class numbers:\n",
    "    def __init__(self,mylist):\n",
    "        self.mylist=mylist\n",
    "    def __getitem__(self,index):\n",
    "        return self.mylist[index]\n",
    "    def __setitem__(self,index,val):\n",
    "        self.mylist[index]=val\n",
    "numlist=numbers([1,2,3,4,5,6,7,8,9])\n",
    "print(numlist[3])\n",
    "print(numlist.mylist)\n",
    "numlist[3]=10\n",
    "print(numlist.mylist)\n",
    "print(numlist[3])"
   ]
  },
  {
   "cell_type": "code",
   "execution_count": 80,
   "id": "543b0625",
   "metadata": {},
   "outputs": [
    {
     "name": "stdout",
     "output_type": "stream",
     "text": [
      "the value stored in obj is 10\n",
      "the length of the name stored in obj 4\n",
      "2nd value is less than 1st\n"
     ]
    }
   ],
   "source": [
    "class abc():\n",
    "    def __init__(self,name,var):\n",
    "        self.name=name\n",
    "        self.var=var\n",
    "    def __repr__(self):\n",
    "        return repr(self.var)\n",
    "    def __len__(self):\n",
    "        return len(self.name)\n",
    "    def __cmp__(self,obj):\n",
    "        return self.var- obj.var\n",
    "obj=abc('abcd',10)\n",
    "print('the value stored in obj is',repr(obj))\n",
    "print('the length of the name stored in obj',len(obj))\n",
    "obj1=abc('efgh',1)\n",
    "val=obj.__cmp__ (obj1)\n",
    "if val==0:\n",
    "    print(\"both values are equal\")\n",
    "elif val==1:\n",
    "    print('1st value is less than second')\n",
    "else:\n",
    "    print('2nd value is less than 1st')"
   ]
  },
  {
   "cell_type": "code",
   "execution_count": 83,
   "id": "a1b30b38",
   "metadata": {},
   "outputs": [
    {
     "name": "stdout",
     "output_type": "stream",
     "text": [
      "this from class method,var= 10\n"
     ]
    }
   ],
   "source": [
    "#is for illustrating use of a private method\n",
    "class abc():\n",
    "    def __init__(self,var):\n",
    "        self.__var=var\n",
    "    def __display(self):\n",
    "        print('this from class method,var=',self.__var)\n",
    "obj=abc(10)\n",
    "obj._abc__display()"
   ]
  },
  {
   "cell_type": "code",
   "execution_count": 87,
   "id": "3a300f3c",
   "metadata": {},
   "outputs": [
    {
     "name": "stdout",
     "output_type": "stream",
     "text": [
      "var is = 12\n"
     ]
    }
   ],
   "source": [
    "#to call a class method form another method of same class\n",
    "class abc():\n",
    "    def __init__(self,var):\n",
    "        self.var=var\n",
    "    def display(self):\n",
    "        print('var is =',self.var)\n",
    "    def add_2(self):\n",
    "        self.var+=2\n",
    "        self.display()\n",
    "obj=abc(10)\n",
    "obj.add_2()"
   ]
  },
  {
   "cell_type": "code",
   "execution_count": 88,
   "id": "c647e9fc",
   "metadata": {},
   "outputs": [
    {
     "name": "stdout",
     "output_type": "stream",
     "text": [
      "var is= 10\n",
      "var is= 100\n"
     ]
    }
   ],
   "source": [
    "#program to show how a class method calls a function which is defined in the global name space\n",
    "def scale_10(x):\n",
    "    return x*10\n",
    "class abc():\n",
    "    def __init__(self,var):\n",
    "        self.var=var\n",
    "    def display(self):\n",
    "        print('var is=',self.var)\n",
    "    def modify(self):\n",
    "        self.var=scale_10(self.var)\n",
    "obj=abc(10)\n",
    "obj.display()\n",
    "obj.modify()\n",
    "obj.display()"
   ]
  },
  {
   "cell_type": "markdown",
   "id": "83f78104",
   "metadata": {},
   "source": [
    "# built in attributes \n",
    "#for get set and delete\n",
    "1....hasattr(obj, name) - Checks object posesses the attributes values or not\n",
    "2....getattr(obj, name[,default])\n",
    "3....setattr(obj, name, value) --- Which is used to set an attribute of the object\n",
    "4....delattr(obj, name)"
   ]
  },
  {
   "cell_type": "code",
   "execution_count": 95,
   "id": "3d8badb4",
   "metadata": {},
   "outputs": [
    {
     "name": "stdout",
     "output_type": "stream",
     "text": [
      "var is 10\n",
      "check whether obj has attribute var? True\n",
      "after setting value,var is 50\n",
      "new variable count is created and its val= 10\n",
      "after deleting the attr,var is= 40\n"
     ]
    }
   ],
   "source": [
    "#program to demo built in\n",
    "class abc():\n",
    "    def __init__(self,var):\n",
    "        self.var=var\n",
    "    def display(self):\n",
    "        print('var is',self.var)\n",
    "obj=abc(10)\n",
    "obj.display()\n",
    "print('check whether obj has attribute var?',hasattr(obj,'var'))\n",
    "getattr(obj,'var')\n",
    "setattr(obj,'var',50)\n",
    "print('after setting value,var is',obj.var)\n",
    "setattr(obj,'count',10)\n",
    "print('new variable count is created and its val=',obj.count)\n",
    "delattr(obj,'var')\n",
    "setattr(obj ,'var',40)\n",
    "print('after deleting the attr,var is=',obj.var)"
   ]
  },
  {
   "cell_type": "markdown",
   "id": "58e459e1",
   "metadata": {},
   "source": [
    "# Built  in-class attributes\n",
    "1. .__dict__\n",
    "2. .__doc__\n",
    "3. .__name__\n",
    "4. .__bases__"
   ]
  },
  {
   "cell_type": "code",
   "execution_count": 97,
   "id": "566f9429",
   "metadata": {},
   "outputs": [
    {
     "name": "stdout",
     "output_type": "stream",
     "text": [
      "var1 is = 10\n",
      "var2 is = 12.34\n",
      "object.__dict__- {'var1': 10, 'var2': 12.34}\n",
      "object.__doc__- None\n",
      "object.__name__- abc\n",
      "object.__module__- __main__\n",
      "object.__bases__- (<class 'object'>,)\n"
     ]
    }
   ],
   "source": [
    "class abc():\n",
    "    def __init__(self,var1,var2):\n",
    "        self.var1=var1\n",
    "        self.var2=var2\n",
    "    def display(self):\n",
    "        print('var1 is =',self.var1)\n",
    "        print('var2 is =',self.var2)\n",
    "obj=abc(10,12.34)\n",
    "obj.display()\n",
    "print('object.__dict__-',obj.__dict__)\n",
    "print('object.__doc__-',obj.__doc__)\n",
    "print('object.__name__-',abc.__name__)\n",
    "print('object.__module__-',obj.__module__)\n",
    "print('object.__bases__-',abc.__bases__)\n"
   ]
  },
  {
   "cell_type": "markdown",
   "id": "75d01eda",
   "metadata": {},
   "source": [
    "# garbage collection -destroy the objects "
   ]
  },
  {
   "cell_type": "code",
   "execution_count": 98,
   "id": "6b0dc7f8",
   "metadata": {},
   "outputs": [
    {
     "name": "stdout",
     "output_type": "stream",
     "text": [
      "garbage collection threshold (700, 10, 10)\n"
     ]
    }
   ],
   "source": [
    "import gc\n",
    "print('garbage collection threshold',gc.get_threshold())   #size,locations"
   ]
  },
  {
   "cell_type": "code",
   "execution_count": 99,
   "id": "2b90efe7",
   "metadata": {},
   "outputs": [],
   "source": [
    "x=[]\n",
    "x.append(1)\n",
    "x.append(2)\n",
    "del x"
   ]
  },
  {
   "cell_type": "code",
   "execution_count": 100,
   "id": "2f622d8f",
   "metadata": {},
   "outputs": [
    {
     "name": "stdout",
     "output_type": "stream",
     "text": [
      "garbage collecter: collected 3441 objects\n"
     ]
    }
   ],
   "source": [
    "import gc\n",
    "collected=gc.collect()\n",
    "print('garbage collecter: collected',\"%d objects\"%collected)"
   ]
  },
  {
   "cell_type": "code",
   "execution_count": null,
   "id": "921d687e",
   "metadata": {},
   "outputs": [],
   "source": []
  }
 ],
 "metadata": {
  "kernelspec": {
   "display_name": "Python 3 (ipykernel)",
   "language": "python",
   "name": "python3"
  },
  "language_info": {
   "codemirror_mode": {
    "name": "ipython",
    "version": 3
   },
   "file_extension": ".py",
   "mimetype": "text/x-python",
   "name": "python",
   "nbconvert_exporter": "python",
   "pygments_lexer": "ipython3",
   "version": "3.9.12"
  }
 },
 "nbformat": 4,
 "nbformat_minor": 5
}
