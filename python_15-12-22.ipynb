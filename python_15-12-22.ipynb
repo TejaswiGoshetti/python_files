{
 "cells": [
  {
   "cell_type": "markdown",
   "id": "659dfab1",
   "metadata": {},
   "source": [
    "# functions - space is allocated in the memory location\n"
   ]
  },
  {
   "cell_type": "code",
   "execution_count": 2,
   "id": "8af343fe",
   "metadata": {},
   "outputs": [
    {
     "name": "stdout",
     "output_type": "stream",
     "text": [
      "in the function var1 is - hi\n",
      "outside function is var2- good morning\n",
      "var1 is- hi\n"
     ]
    }
   ],
   "source": [
    "var1='hi'\n",
    "def abc():\n",
    "    global var2\n",
    "    var2='good morning'\n",
    "    print(\"in the function var1 is -\",var1)\n",
    "abc()\n",
    "print(\"outside function is var2-\",var2)\n",
    "print('var1 is-',var1)"
   ]
  },
  {
   "cell_type": "code",
   "execution_count": 4,
   "id": "0affb2c2",
   "metadata": {},
   "outputs": [
    {
     "name": "stdout",
     "output_type": "stream",
     "text": [
      "in the function var1 is - goodmorning\n",
      "outside function is var2- goodmorning\n",
      "outside function after modify- verygood\n"
     ]
    }
   ],
   "source": [
    "var1='hi'\n",
    "def abc():\n",
    "    global var1\n",
    "    var1='goodmorning'\n",
    "    print(\"in the function var1 is -\",var1)\n",
    "abc()\n",
    "print('outside function is var2-',var1)\n",
    "var1='verygood'\n",
    "print('outside function after modify-',var1)"
   ]
  },
  {
   "cell_type": "code",
   "execution_count": 9,
   "id": "66a83141",
   "metadata": {},
   "outputs": [
    {
     "name": "stdout",
     "output_type": "stream",
     "text": [
      "outer variable 22\n",
      "inner variable 11\n"
     ]
    }
   ],
   "source": [
    "#program to demonstrate access of var in inner & outer function\n",
    "def outer_fun():\n",
    "    outer_var=11\n",
    "    def inner_fun():\n",
    "        inner_var=22\n",
    "        print('outer variable',inner_var)\n",
    "    inner_fun()\n",
    "    print('inner variable',outer_var)\n",
    "outer_fun()"
   ]
  },
  {
   "cell_type": "code",
   "execution_count": 10,
   "id": "6207359c",
   "metadata": {},
   "outputs": [
    {
     "name": "stdout",
     "output_type": "stream",
     "text": [
      "cube of 10 = 1000\n"
     ]
    }
   ],
   "source": [
    "#writing a function and return its cubation format\n",
    "def cube(x):\n",
    "    return (x*x*x)\n",
    "num=10\n",
    "result=cube(num)\n",
    "print('cube of',num,'=',result)"
   ]
  },
  {
   "cell_type": "code",
   "execution_count": 18,
   "id": "3c4e9857",
   "metadata": {},
   "outputs": [
    {
     "ename": "TypeError",
     "evalue": "abc() takes 1 positional argument but 2 were given",
     "output_type": "error",
     "traceback": [
      "\u001b[1;31m---------------------------------------------------------------------------\u001b[0m",
      "\u001b[1;31mTypeError\u001b[0m                                 Traceback (most recent call last)",
      "Input \u001b[1;32mIn [18]\u001b[0m, in \u001b[0;36m<cell line: 4>\u001b[1;34m()\u001b[0m\n\u001b[0;32m      2\u001b[0m \u001b[38;5;28;01mdef\u001b[39;00m \u001b[38;5;21mabc\u001b[39m(x):\n\u001b[0;32m      3\u001b[0m     \u001b[38;5;28mprint\u001b[39m(\u001b[38;5;124m'\u001b[39m\u001b[38;5;124mhey hi\u001b[39m\u001b[38;5;124m'\u001b[39m,x)\n\u001b[1;32m----> 4\u001b[0m \u001b[43mabc\u001b[49m\u001b[43m(\u001b[49m\u001b[38;5;241;43m5\u001b[39;49m\u001b[43m,\u001b[49m\u001b[38;5;241;43m5\u001b[39;49m\u001b[43m)\u001b[49m\n",
      "\u001b[1;31mTypeError\u001b[0m: abc() takes 1 positional argument but 2 were given"
     ]
    }
   ],
   "source": [
    "#writing a function to understand a mismatch parameters \n",
    "def abc(x):\n",
    "    print('hey hi',x)\n",
    "abc(5,5)"
   ]
  },
  {
   "cell_type": "code",
   "execution_count": 16,
   "id": "7438cb8b",
   "metadata": {},
   "outputs": [
    {
     "name": "stdout",
     "output_type": "stream",
     "text": [
      "orange 10\n"
     ]
    }
   ],
   "source": [
    "#writing a function to understand a different parameters\n",
    "def fun(i):\n",
    "    print('orange',i)\n",
    "j=10\n",
    "fun(j)"
   ]
  },
  {
   "cell_type": "code",
   "execution_count": 17,
   "id": "fdc5bb1f",
   "metadata": {},
   "outputs": [
    {
     "name": "stdout",
     "output_type": "stream",
     "text": [
      "orange 13\n"
     ]
    }
   ],
   "source": [
    "#writing a function to understand a expression parameters\n",
    "def fun(i):\n",
    "    print('orange',i)\n",
    "fun(5+2*4)"
   ]
  },
  {
   "cell_type": "code",
   "execution_count": 20,
   "id": "b1d4ddb1",
   "metadata": {},
   "outputs": [
    {
     "name": "stdout",
     "output_type": "stream",
     "text": [
      "the string is hi\n",
      "the integer is 35\n",
      "the float is 5678.93\n"
     ]
    }
   ],
   "source": [
    "#program to demo key args\n",
    "def display(str,int_x,float_y):\n",
    "    print('the string is',str)\n",
    "    print('the integer is',int_x)\n",
    "    print('the float is',float_y)\n",
    "display(float_y=5678.93,str='hi',int_x=35)  #it cross checks"
   ]
  },
  {
   "cell_type": "code",
   "execution_count": 21,
   "id": "78fb276e",
   "metadata": {},
   "outputs": [
    {
     "name": "stdout",
     "output_type": "stream",
     "text": [
      "Name is tejaswi\n",
      "age is 20\n",
      "Salary is 500000\n"
     ]
    }
   ],
   "source": [
    "def display(name,age,salary):\n",
    "    print('Name is',name)\n",
    "    print('age is',age)\n",
    "    print('Salary is',salary)\n",
    "a='tejaswi'\n",
    "b=20\n",
    "c=500000\n",
    "display(salary=c,name=a,age=b)"
   ]
  },
  {
   "cell_type": "markdown",
   "id": "b659607e",
   "metadata": {},
   "source": [
    "# lambda functions"
   ]
  },
  {
   "cell_type": "code",
   "execution_count": 22,
   "id": "3f92a415",
   "metadata": {},
   "outputs": [
    {
     "name": "stdout",
     "output_type": "stream",
     "text": [
      "sum= 60\n"
     ]
    }
   ],
   "source": [
    "#lambda funtion\n",
    "addition=lambda x,y,z:x+y+z\n",
    "print('sum=',addition(10,20,30))"
   ]
  },
  {
   "cell_type": "code",
   "execution_count": 24,
   "id": "61312e61",
   "metadata": {},
   "outputs": [
    {
     "name": "stdout",
     "output_type": "stream",
     "text": [
      "smaller of 2 numbers is -5\n"
     ]
    }
   ],
   "source": [
    "#program to find smaller number by lambda\n",
    "def small(a,b):\n",
    "    if(a<b):\n",
    "        return a\n",
    "    else:\n",
    "        return b\n",
    "add=lambda x,y:x+y\n",
    "diff=lambda x,y:x-y\n",
    "print(\"smaller of 2 numbers is\",small(add(-3,-2),diff(-1,2)))"
   ]
  },
  {
   "cell_type": "code",
   "execution_count": 25,
   "id": "67646d67",
   "metadata": {},
   "outputs": [
    {
     "name": "stdout",
     "output_type": "stream",
     "text": [
      "a= 100\n",
      "a after incrementing\n",
      "101\n"
     ]
    }
   ],
   "source": [
    "# incrementing number using lambda \n",
    "def increment(y):\n",
    "    return (lambda x:x+1)(y)\n",
    "a=100\n",
    "print(\"a=\",a)\n",
    "print(\"a after incrementing\")\n",
    "b=increment(a)\n",
    "print(b)"
   ]
  },
  {
   "cell_type": "code",
   "execution_count": 27,
   "id": "8ea436af",
   "metadata": {},
   "outputs": [
    {
     "name": "stdout",
     "output_type": "stream",
     "text": [
      "8\n",
      "9\n"
     ]
    }
   ],
   "source": [
    "#program to pass a lambda func as a funct arg\n",
    "def fun(f,n):\n",
    "    print(f(n)) #twice(4)  triple(3)\n",
    "twice=lambda x:x*2\n",
    "triple=lambda x:x*3\n",
    "fun(twice,4)\n",
    "fun(triple,3)"
   ]
  },
  {
   "cell_type": "code",
   "execution_count": 29,
   "id": "964f0181",
   "metadata": {},
   "outputs": [
    {
     "name": "stdout",
     "output_type": "stream",
     "text": [
      "27\n"
     ]
    }
   ],
   "source": [
    "add=lambda x,y:x+y\n",
    "m_and_add=lambda x,y,z:x*add(y,z)\n",
    "print(m_and_add(3,4,5))"
   ]
  },
  {
   "cell_type": "code",
   "execution_count": 69,
   "id": "dfcea3e5",
   "metadata": {
    "scrolled": false
   },
   "outputs": [
    {
     "ename": "TypeError",
     "evalue": "<lambda>() missing 1 required positional argument: 'y'",
     "output_type": "error",
     "traceback": [
      "\u001b[1;31m---------------------------------------------------------------------------\u001b[0m",
      "\u001b[1;31mTypeError\u001b[0m                                 Traceback (most recent call last)",
      "Input \u001b[1;32mIn [69]\u001b[0m, in \u001b[0;36m<cell line: 2>\u001b[1;34m()\u001b[0m\n\u001b[0;32m      1\u001b[0m m \u001b[38;5;241m=\u001b[39m \u001b[38;5;28;01mlambda\u001b[39;00m: \u001b[38;5;28msum\u001b[39m(\u001b[38;5;28mrange\u001b[39m(\u001b[38;5;241m1\u001b[39m,\u001b[38;5;241m11\u001b[39m))\n\u001b[1;32m----> 2\u001b[0m \u001b[38;5;28mprint\u001b[39m(\u001b[43mm\u001b[49m\u001b[43m(\u001b[49m\u001b[43m)\u001b[49m)\n",
      "Input \u001b[1;32mIn [69]\u001b[0m, in \u001b[0;36m<lambda>\u001b[1;34m()\u001b[0m\n\u001b[1;32m----> 1\u001b[0m m \u001b[38;5;241m=\u001b[39m \u001b[38;5;28;01mlambda\u001b[39;00m: \u001b[38;5;28;43msum\u001b[39;49m\u001b[43m(\u001b[49m\u001b[38;5;28;43mrange\u001b[39;49m\u001b[43m(\u001b[49m\u001b[38;5;241;43m1\u001b[39;49m\u001b[43m,\u001b[49m\u001b[38;5;241;43m11\u001b[39;49m\u001b[43m)\u001b[49m\u001b[43m)\u001b[49m\n\u001b[0;32m      2\u001b[0m \u001b[38;5;28mprint\u001b[39m(m())\n",
      "\u001b[1;31mTypeError\u001b[0m: <lambda>() missing 1 required positional argument: 'y'"
     ]
    }
   ],
   "source": [
    "m = lambda: sum(range(1,11))\n",
    "print(m()) "
   ]
  },
  {
   "cell_type": "code",
   "execution_count": 45,
   "id": "36267546",
   "metadata": {},
   "outputs": [
    {
     "name": "stdout",
     "output_type": "stream",
     "text": [
      "A==19\n",
      "B==20\n",
      "before swapping\n",
      "A== 19\n",
      "B== 20\n",
      "after swap\n",
      "a= 20\n",
      "b= 19\n"
     ]
    }
   ],
   "source": [
    "def shifth(a,b):\n",
    "    a,b=b,a\n",
    "    print('after swap')\n",
    "    print('a=',a)\n",
    "    print('b=',b)\n",
    "a=int(input('A=='))\n",
    "b=int(input('B=='))\n",
    "print('before swapping')\n",
    "print('A==',a)\n",
    "print('B==',b)\n",
    "shifth(a,b)"
   ]
  },
  {
   "cell_type": "code",
   "execution_count": 52,
   "id": "c7bb50a3",
   "metadata": {},
   "outputs": [
    {
     "name": "stdout",
     "output_type": "stream",
     "text": [
      "Goshetti tejaswi\n"
     ]
    }
   ],
   "source": [
    "'''write a program to return the full name of a persom where\n",
    "1st variable passed is first name \n",
    "2nd variable passed is last name '''\n",
    "def name(first_name,last_name):\n",
    "    s=' '\n",
    "    n = first_name+s+last_name\n",
    "    return n\n",
    "print(name('Goshetti','tejaswi'))\n"
   ]
  },
  {
   "cell_type": "code",
   "execution_count": 59,
   "id": "a7f23653",
   "metadata": {},
   "outputs": [
    {
     "name": "stdout",
     "output_type": "stream",
     "text": [
      "5\n",
      "odd\n"
     ]
    }
   ],
   "source": [
    "#even or odd\n",
    "def eo(n):\n",
    "    if a%2==0:\n",
    "        return 1\n",
    "    else:\n",
    "        return -1\n",
    "a=int(input())\n",
    "flag=eo(a)\n",
    "if flag==1:\n",
    "    print(\"even\")\n",
    "else:\n",
    "    print(\"odd\")"
   ]
  },
  {
   "cell_type": "code",
   "execution_count": 62,
   "id": "0357be00",
   "metadata": {},
   "outputs": [
    {
     "name": "stdout",
     "output_type": "stream",
     "text": [
      "enter age:56\n",
      "simple interest is 0.06\n"
     ]
    }
   ],
   "source": [
    "'''write a program to calculate SI. suppose the customer is a senior citizen. He is being offered 12% ROI; for all other \n",
    "customers, the ROI is 10%'''\n",
    "p=200\n",
    "r=3\n",
    "age=int(input('enter age:'))\n",
    "if age>=60:\n",
    "    ROI=0.12\n",
    "else:\n",
    "    ROI=0.01\n",
    "si=p*r*ROI/100\n",
    "print('simple interest is',si)"
   ]
  },
  {
   "cell_type": "code",
   "execution_count": 63,
   "id": "dcb95de0",
   "metadata": {},
   "outputs": [
    {
     "name": "stdout",
     "output_type": "stream",
     "text": [
      "5\n",
      "120\n"
     ]
    }
   ],
   "source": [
    "#factorial of a number\n",
    "def fact(n):\n",
    "    if(n==1 or n==0):\n",
    "        return 1\n",
    "    else:\n",
    "        return n*fact(n-1)\n",
    "n=int(input())\n",
    "print(fact(n))"
   ]
  },
  {
   "cell_type": "code",
   "execution_count": 1,
   "id": "bc77838b",
   "metadata": {},
   "outputs": [
    {
     "name": "stdout",
     "output_type": "stream",
     "text": [
      "3\n",
      "4\n",
      "result= 81\n"
     ]
    }
   ],
   "source": [
    "#program to find the exp(x,y) using recursion function\n",
    "x=int(input())\n",
    "y=int(input())\n",
    "def exp(x,y):\n",
    "    if y==0:\n",
    "        return 1\n",
    "    else:\n",
    "        return(x*exp(x,y-1))\n",
    "print('result=',exp(x,y))"
   ]
  },
  {
   "cell_type": "code",
   "execution_count": 7,
   "id": "dd4300f8",
   "metadata": {},
   "outputs": [
    {
     "name": "stdout",
     "output_type": "stream",
     "text": [
      "6\n",
      "fibanocci series:\n",
      "1\n",
      "1\n",
      "2\n",
      "3\n",
      "5\n",
      "8\n"
     ]
    }
   ],
   "source": [
    "#fibanocci series\n",
    "x=int(input())\n",
    "def fibanocci(x):\n",
    "    if x<2:\n",
    "        return 1\n",
    "    return (fibanocci(x-1)+fibanocci(x-2))\n",
    "print(\"fibanocci series:\")\n",
    "for i in range(0,x):\n",
    "    print(fibanocci(i))\n",
    "        "
   ]
  },
  {
   "cell_type": "code",
   "execution_count": 4,
   "id": "9abd6a16",
   "metadata": {},
   "outputs": [
    {
     "name": "stdout",
     "output_type": "stream",
     "text": [
      "3\n",
      "A to C\n",
      "A to B\n",
      "C to B\n",
      "A to C\n",
      "B to A\n",
      "B to C\n",
      "A to C\n"
     ]
    }
   ],
   "source": [
    "#tower of hanoi\n",
    "n=int(input())\n",
    "def hanoi(n,a,b,c):\n",
    "    if(n==1):\n",
    "        print(a,'to',c)\n",
    "        return \n",
    "    hanoi(n-1,a,c,b) \n",
    "    print(a,'to',c)\n",
    "    hanoi(n-1,b,a,c)\n",
    "hanoi(n,'A','B',\"C\")\n",
    "    \n",
    "    "
   ]
  },
  {
   "cell_type": "code",
   "execution_count": 7,
   "id": "0b28ba83",
   "metadata": {},
   "outputs": [
    {
     "name": "stdout",
     "output_type": "stream",
     "text": [
      "[1, 2, 3, 4] [] []\n",
      "[] [] [1, 2, 3, 4]\n"
     ]
    }
   ],
   "source": [
    "def hanoi(n,a,b,c):\n",
    "    if n>0:\n",
    "        hanoi(n-1,a,c,b)\n",
    "        if a:\n",
    "            c.append(a.pop())\n",
    "        hanoi(n-1,b,a,c)\n",
    "A=[1,2,3,4]\n",
    "B=[]\n",
    "C=[]\n",
    "print(A,B,C)\n",
    "hanoi(len(A),A,B,C)\n",
    "print(A,B,C)"
   ]
  },
  {
   "cell_type": "code",
   "execution_count": 16,
   "id": "d28fe2ca",
   "metadata": {},
   "outputs": [
    {
     "name": "stdout",
     "output_type": "stream",
     "text": [
      "enter str with char:teja*\n",
      "enter str for match:tejaswi\n",
      "with wild char: teja*\n",
      "without wild char: tejaswi\n",
      "True\n"
     ]
    }
   ],
   "source": [
    "#check  if two strings where one string contains wildcard characters\n",
    "def solve(a,b):\n",
    "    n,m=len(a),len(b)\n",
    "    if n==0 and m==0:\n",
    "        return True\n",
    "    if n>1 and a[0]=='*' and m==0:\n",
    "        return False\n",
    "    if (n>1 and a[0]=='?')or(n!=0and m!=0 and a[0]==b[0]):\n",
    "        return solve(a[1:],b[1:])\n",
    "    if n!=0and a[0]=='*':\n",
    "        return solve (a[1:],b)or solve (a,b[1:])\n",
    "        return false\n",
    "x=str(input(\"enter str with char:\"))\n",
    "y=str(input(\"enter str for match:\"))\n",
    "print(\"with wild char:\",x)\n",
    "print(\"without wild char:\",y)\n",
    "print(solve(x,y))\n",
    "    "
   ]
  },
  {
   "cell_type": "code",
   "execution_count": null,
   "id": "c852492c",
   "metadata": {},
   "outputs": [],
   "source": [
    "n=int(input())\n",
    "if(n<=0):\n",
    "    print(\"Invalid Input\")\n"
   ]
  }
 ],
 "metadata": {
  "kernelspec": {
   "display_name": "Python 3 (ipykernel)",
   "language": "python",
   "name": "python3"
  },
  "language_info": {
   "codemirror_mode": {
    "name": "ipython",
    "version": 3
   },
   "file_extension": ".py",
   "mimetype": "text/x-python",
   "name": "python",
   "nbconvert_exporter": "python",
   "pygments_lexer": "ipython3",
   "version": "3.9.12"
  }
 },
 "nbformat": 4,
 "nbformat_minor": 5
}
