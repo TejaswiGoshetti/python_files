{
 "cells": [
  {
   "cell_type": "code",
   "execution_count": 3,
   "id": "ab288a6e",
   "metadata": {},
   "outputs": [
    {
     "name": "stdout",
     "output_type": "stream",
     "text": [
      "2\n",
      "Username:tejaswi\n",
      "password:abc\n",
      "Username:teju\n",
      "password:123\n",
      "[{'tejaswi', 'abc'}, {'teju', '123'}]\n"
     ]
    }
   ],
   "source": [
    "#using array\n",
    "n=int(input())\n",
    "arr=[]\n",
    "for i in range(n):\n",
    "    username=input(\"Username:\")\n",
    "    password=input(\"password:\")\n",
    "    arr.append({username,password})\n",
    "print(arr)"
   ]
  },
  {
   "cell_type": "code",
   "execution_count": 6,
   "id": "52b76de1",
   "metadata": {},
   "outputs": [
    {
     "name": "stdout",
     "output_type": "stream",
     "text": [
      "2\n",
      "Username:tejaswigoshetti\n",
      "password:1234\n",
      "Username:shiva\n",
      "password:4321\n",
      "{'tejaswigoshetti': '1234', 'shiva': '4321'}\n"
     ]
    }
   ],
   "source": [
    "#using dictionary\n",
    "n=int(input())\n",
    "d={}\n",
    "for i in range(n):\n",
    "    username=input(\"Username:\")\n",
    "    password=input(\"password:\")\n",
    "    d[username]=password\n",
    "print(d)"
   ]
  },
  {
   "cell_type": "code",
   "execution_count": 7,
   "id": "8e45d154",
   "metadata": {},
   "outputs": [
    {
     "name": "stdout",
     "output_type": "stream",
     "text": [
      "enter the number of users:2\n",
      "enter user name:teju\n",
      "enter password:123\n",
      "enter user name:shiva\n",
      "enter password:456\n",
      "{'teju': '123', 'shiva': '456'}\n"
     ]
    }
   ],
   "source": [
    "d={}\n",
    "l=[]\n",
    "n=int(input(\"enter the number of users:\"))\n",
    "for i in range(n):\n",
    "    k=input(\"enter user name:\")\n",
    "    y=input(\"enter password:\")\n",
    "    l.append(k)\n",
    "    d[k]=y\n",
    "print(d)"
   ]
  },
  {
   "cell_type": "code",
   "execution_count": 10,
   "id": "04a21774",
   "metadata": {},
   "outputs": [
    {
     "name": "stdout",
     "output_type": "stream",
     "text": [
      "enter username:teju\n",
      "Enter password:123\n",
      "Login Successfull\n"
     ]
    }
   ],
   "source": [
    "u=input(\"enter username:\")\n",
    "p=input(\"Enter password:\")\n",
    "if u in l:\n",
    "    if d[u]==p:\n",
    "        print(\"Login Successfull\")\n",
    "    else:\n",
    "        print(\"Wrong password\")\n",
    "else:\n",
    "    print(\"Wrong username\")"
   ]
  },
  {
   "cell_type": "code",
   "execution_count": 11,
   "id": "77646d25",
   "metadata": {},
   "outputs": [
    {
     "name": "stdout",
     "output_type": "stream",
     "text": [
      "Enter your choice:rock\n",
      "Computer choice Paper\n",
      "Computer won\n"
     ]
    }
   ],
   "source": [
    "#rock paper scissor\n",
    "import random\n",
    "n=input(\"Enter your choice:\")\n",
    "l=[\"Rock\",\"Paper\",\"Scissors\"]\n",
    "s=random.choice(l)\n",
    "print(\"Computer choice\",s)\n",
    "if n==\"Rock\" or n==\"rock\":\n",
    "    if s==\"Scissors\" or s==\"scissors\":\n",
    "        print(\"Player won\")\n",
    "    elif s==\"Rock\" or s==\"rock\":\n",
    "        print(\"DRAW\")\n",
    "    else:\n",
    "        print(\"Computer won\")\n",
    "elif n==\"Scissors\" or n==\"scissors\":\n",
    "    if s==\"Paper\" or s==\"paper\":\n",
    "        print(\"Player won\")\n",
    "    elif s==\"Scissors\" or s==\"scissors\":\n",
    "        print(\"DRAW\")\n",
    "    else:\n",
    "        print(\"Computer won\")\n",
    "elif n==\"Paper\" or n==\"paper\":\n",
    "    if s==\"Rock\" or s==\"rock\":\n",
    "        print(\"Player won\")\n",
    "    elif s==\"Paper\" or s==\"paper\":\n",
    "        print(\"DRAW\")\n",
    "    else:\n",
    "        print(\"Computer won\")\n",
    "else:\n",
    "    print(\"INVALID INPUT\")"
   ]
  },
  {
   "cell_type": "code",
   "execution_count": 14,
   "id": "379d2c61",
   "metadata": {},
   "outputs": [
    {
     "name": "stdout",
     "output_type": "stream",
     "text": [
      "*******ROCK PAPER SCISSORS*******\n",
      "\n",
      "\n",
      "ROUND  1\n",
      "\n",
      "Enter your choice:rock\n",
      "Computer choice Paper\n",
      "Computer won\n",
      "ROUND  2\n",
      "\n",
      "Enter your choice:paper\n",
      "Computer choice Rock\n",
      "Player won\n",
      "ROUND  3\n",
      "\n",
      "Enter your choice:scissors\n",
      "Computer choice Paper\n",
      "Player won\n",
      "ROUND  4\n",
      "\n",
      "Enter your choice:paper\n",
      "Computer choice Paper\n",
      "DRAW\n",
      "ROUND  5\n",
      "\n",
      "Enter your choice:rock\n",
      "Computer choice Scissors\n",
      "Player won\n",
      "\n",
      "\n",
      "\n",
      "Player won the match\n"
     ]
    }
   ],
   "source": [
    "import random\n",
    "print(\"*******ROCK PAPER SCISSORS*******\\n\\n\")\n",
    "i=0\n",
    "j=0\n",
    "no=0\n",
    "while(no!=5):\n",
    "    print(\"ROUND \",no+1);\n",
    "    print()\n",
    "    n=input(\"Enter your choice:\")\n",
    "    l=[\"Rock\",\"Paper\",\"Scissors\"]\n",
    "    s=random.choice(l)\n",
    "    print(\"Computer choice\",s)\n",
    "    if n==\"Rock\" or n==\"rock\":\n",
    "        if s==\"Scissors\" or s==\"scissors\":\n",
    "            print(\"Player won\")\n",
    "            i+=1\n",
    "        elif s==\"Rock\" or s==\"rock\":\n",
    "            print(\"DRAW\")\n",
    "        else:\n",
    "            print(\"Computer won\")\n",
    "            j+=1\n",
    "    elif n==\"Scissors\" or n==\"scissors\":\n",
    "        if s==\"Paper\" or s==\"paper\":\n",
    "            print(\"Player won\")\n",
    "            i+=1\n",
    "        elif s==\"Scissors\" or s==\"scissors\":\n",
    "            print(\"DRAW\")\n",
    "        else:\n",
    "            print(\"Computer won\")\n",
    "            j+=1\n",
    "    elif n==\"Paper\" or n==\"paper\":\n",
    "        if s==\"Rock\" or s==\"rock\":\n",
    "            print(\"Player won\")\n",
    "            i+=1\n",
    "        elif s==\"Paper\" or s==\"paper\":\n",
    "            print(\"DRAW\")\n",
    "        else:\n",
    "            print(\"Computer won\")\n",
    "            j+=1\n",
    "    else:\n",
    "        print(\"INVALID INPUT\")\n",
    "    no+=1\n",
    "print(\"\\n\\n\")\n",
    "if(i>j):\n",
    "    print(\"Player won the match\")\n",
    "elif(i==j):\n",
    "    print(\"draw match\")\n",
    "else:\n",
    "    print(\"Computer won the match\")"
   ]
  },
  {
   "cell_type": "code",
   "execution_count": null,
   "id": "83281866",
   "metadata": {},
   "outputs": [],
   "source": [
    "n=10\n",
    "10,5,16,8,4,2,1"
   ]
  }
 ],
 "metadata": {
  "kernelspec": {
   "display_name": "Python 3 (ipykernel)",
   "language": "python",
   "name": "python3"
  },
  "language_info": {
   "codemirror_mode": {
    "name": "ipython",
    "version": 3
   },
   "file_extension": ".py",
   "mimetype": "text/x-python",
   "name": "python",
   "nbconvert_exporter": "python",
   "pygments_lexer": "ipython3",
   "version": "3.9.12"
  }
 },
 "nbformat": 4,
 "nbformat_minor": 5
}
