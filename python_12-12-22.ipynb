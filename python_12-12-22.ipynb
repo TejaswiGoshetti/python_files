{
 "cells": [
  {
   "cell_type": "code",
   "execution_count": 1,
   "id": "feb24613",
   "metadata": {},
   "outputs": [
    {
     "name": "stdout",
     "output_type": "stream",
     "text": [
      "1A\n",
      "27\n"
     ]
    }
   ],
   "source": [
    "num=str(input())\n",
    "print(int(num,17))"
   ]
  },
  {
   "cell_type": "code",
   "execution_count": 2,
   "id": "453db524",
   "metadata": {},
   "outputs": [
    {
     "name": "stdout",
     "output_type": "stream",
     "text": [
      "happy number\n"
     ]
    }
   ],
   "source": [
    "def happ(num):\n",
    "    rem=0\n",
    "    sum=0\n",
    "    while(num>0):\n",
    "        rem=num%10\n",
    "        sum=sum+(rem*rem)\n",
    "        num=num//10\n",
    "    return sum\n",
    "num=97\n",
    "result=num\n",
    "while(result!=1 and result!=4):\n",
    "    result=happ(result)\n",
    "if result==1:\n",
    "    print(\"happy number\")\n",
    "else:\n",
    "    print(\"not happy number\")\n"
   ]
  },
  {
   "cell_type": "code",
   "execution_count": 5,
   "id": "60cb4e45",
   "metadata": {},
   "outputs": [
    {
     "name": "stdout",
     "output_type": "stream",
     "text": [
      "enter the value92\n",
      "34.8\n"
     ]
    }
   ],
   "source": [
    "#write a program to convert f in to c\n",
    "fa=float(input(\"enter the value\"))\n",
    "ce=(0.58)*(fa-32)\n",
    "print(ce)"
   ]
  },
  {
   "cell_type": "code",
   "execution_count": 7,
   "id": "7330ed53",
   "metadata": {},
   "outputs": [
    {
     "name": "stdout",
     "output_type": "stream",
     "text": [
      "-7\n",
      "not a positive number\n"
     ]
    }
   ],
   "source": [
    "#write a program to check whether the given number is positive or not\n",
    "num=int(input())\n",
    "if num>0:\n",
    "    print(\"positive number\")\n",
    "else:\n",
    "    print(\"not a positive number\")"
   ]
  },
  {
   "cell_type": "code",
   "execution_count": 17,
   "id": "0d02b6d3",
   "metadata": {},
   "outputs": [
    {
     "name": "stdout",
     "output_type": "stream",
     "text": [
      "enter a sentance:state\n",
      "input string is present\n"
     ]
    }
   ],
   "source": [
    "#write a program to find a text present in an input sentence\n",
    "txt= str(input(\"enter a sentance:\"))\n",
    "text=\"telangana is a state\"\n",
    "if txt in text:\n",
    "    print(\"input string is present\")\n",
    "else:\n",
    "    print(\"input is not present\")"
   ]
  },
  {
   "cell_type": "code",
   "execution_count": 15,
   "id": "02bbfaa2",
   "metadata": {},
   "outputs": [
    {
     "name": "stdout",
     "output_type": "stream",
     "text": [
      "enter a text:mississippi\n",
      "['mi', '', 'i', '', 'ippi']\n"
     ]
    }
   ],
   "source": [
    "#write a program to separate a character from text\n",
    "txt= str(input(\"enter a text:\"))\n",
    "print(txt.split(\"s\"))"
   ]
  },
  {
   "cell_type": "code",
   "execution_count": 25,
   "id": "84316132",
   "metadata": {},
   "outputs": [
    {
     "name": "stdout",
     "output_type": "stream",
     "text": [
      "etherland\n",
      "l\n",
      "11\n"
     ]
    }
   ],
   "source": [
    "#string access\n",
    "abc=\"netherlands\"\n",
    "print(abc[1:10])\n",
    "print(abc[-5])\n",
    "print(len(abc))"
   ]
  },
  {
   "cell_type": "code",
   "execution_count": 31,
   "id": "7a8f0bbb",
   "metadata": {},
   "outputs": [
    {
     "name": "stdout",
     "output_type": "stream",
     "text": [
      " \n",
      "netherlands\n",
      "australia\n",
      "greece \n"
     ]
    }
   ],
   "source": [
    "#string mluti-line\n",
    "abc=\"\"\" \n",
    "netherlands\n",
    "australia\n",
    "greece \"\"\"\n",
    "print(abc)"
   ]
  },
  {
   "cell_type": "code",
   "execution_count": 33,
   "id": "a03b47e6",
   "metadata": {},
   "outputs": [
    {
     "name": "stdout",
     "output_type": "stream",
     "text": [
      "False\n",
      "True\n",
      "hihello\n"
     ]
    }
   ],
   "source": [
    "#string comparision \n",
    "a=\"hi\"\n",
    "b=\"hello\"\n",
    "c=\"hi\"\n",
    "print(a==b)\n",
    "print(a==c)\n",
    "print(a+b)"
   ]
  },
  {
   "cell_type": "code",
   "execution_count": 44,
   "id": "3442963a",
   "metadata": {},
   "outputs": [
    {
     "name": "stdout",
     "output_type": "stream",
     "text": [
      "5\n",
      "3\n"
     ]
    },
    {
     "ename": "AttributeError",
     "evalue": "'str' object has no attribute 'c'",
     "output_type": "error",
     "traceback": [
      "\u001b[1;31m---------------------------------------------------------------------------\u001b[0m",
      "\u001b[1;31mAttributeError\u001b[0m                            Traceback (most recent call last)",
      "Input \u001b[1;32mIn [44]\u001b[0m, in \u001b[0;36m<cell line: 22>\u001b[1;34m()\u001b[0m\n\u001b[0;32m     20\u001b[0m         \u001b[38;5;28;01mreturn\u001b[39;00m ((r_str)\u001b[38;5;241m.\u001b[39mjoin(\u001b[38;5;28mstr\u001b[39m)\u001b[38;5;241m.\u001b[39mc(r_str) \u001b[38;5;241m+\u001b[39ml)\n\u001b[0;32m     21\u001b[0m \u001b[38;5;28mstr\u001b[39m\u001b[38;5;241m=\u001b[39m\u001b[38;5;124m'\u001b[39m\u001b[38;5;124mindia\u001b[39m\u001b[38;5;124m'\u001b[39m\n\u001b[1;32m---> 22\u001b[0m \u001b[38;5;28mprint\u001b[39m(\u001b[43mls\u001b[49m\u001b[43m(\u001b[49m\u001b[38;5;28;43mstr\u001b[39;49m\u001b[43m)\u001b[49m)\n",
      "Input \u001b[1;32mIn [44]\u001b[0m, in \u001b[0;36mls\u001b[1;34m(str)\u001b[0m\n\u001b[0;32m     18\u001b[0m \u001b[38;5;28;01melse\u001b[39;00m:\n\u001b[0;32m     19\u001b[0m     r_str\u001b[38;5;241m=\u001b[39m\u001b[38;5;124m'\u001b[39m\u001b[38;5;124mpy\u001b[39m\u001b[38;5;124m'\u001b[39m\n\u001b[1;32m---> 20\u001b[0m     \u001b[38;5;28;01mreturn\u001b[39;00m (\u001b[43m(\u001b[49m\u001b[43mr_str\u001b[49m\u001b[43m)\u001b[49m\u001b[38;5;241;43m.\u001b[39;49m\u001b[43mjoin\u001b[49m\u001b[43m(\u001b[49m\u001b[38;5;28;43mstr\u001b[39;49m\u001b[43m)\u001b[49m\u001b[38;5;241;43m.\u001b[39;49m\u001b[43mc\u001b[49m(r_str) \u001b[38;5;241m+\u001b[39ml)\n",
      "\u001b[1;31mAttributeError\u001b[0m: 'str' object has no attribute 'c'"
     ]
    }
   ],
   "source": [
    "#method by using sum\n",
    "def ls(string):\n",
    "    return sum(1 for i in string)\n",
    "string = 'india'\n",
    "print(ls(string))\n",
    "#counter method\n",
    "def ls(str):\n",
    "    c=0\n",
    "    for i in str:   # while str[c:]\n",
    "        c+=1\n",
    "    return c\n",
    "str= \"sru\"\n",
    "print(ls(str))\n",
    "#using join and count\n",
    "def ls(str):\n",
    "    if not str:\n",
    "        return 0\n",
    "    else:\n",
    "        r_str='py'\n",
    "        return ((r_str).join(str).c(r_str) +l)\n",
    "str='india'\n",
    "print(ls(str))\n",
    "    "
   ]
  },
  {
   "cell_type": "code",
   "execution_count": 45,
   "id": "23355b73",
   "metadata": {},
   "outputs": [
    {
     "name": "stdout",
     "output_type": "stream",
     "text": [
      "tejaswi is born in india\n"
     ]
    }
   ],
   "source": [
    "name='tejaswi'\n",
    "country='india'\n",
    "print(f'{name} is born in {country}')"
   ]
  },
  {
   "cell_type": "code",
   "execution_count": 48,
   "id": "3b276f39",
   "metadata": {},
   "outputs": [
    {
     "name": "stdout",
     "output_type": "stream",
     "text": [
      "{1, 2, 3}\n",
      "{2.0, (1, 2, 3), 'abc'}\n"
     ]
    }
   ],
   "source": [
    "#sets\n",
    "m_set={1,2,3}\n",
    "m_set2={2.0,(1,2,3),'abc'}\n",
    "print(m_set)\n",
    "print(m_set2)"
   ]
  },
  {
   "cell_type": "code",
   "execution_count": 49,
   "id": "176cfcc7",
   "metadata": {},
   "outputs": [
    {
     "name": "stdout",
     "output_type": "stream",
     "text": [
      "<class 'dict'>\n",
      "<class 'set'>\n"
     ]
    }
   ],
   "source": [
    "x= {}\n",
    "print(type(x))\n",
    "y=set()\n",
    "print(type(y))"
   ]
  },
  {
   "cell_type": "code",
   "execution_count": 58,
   "id": "737a47c3",
   "metadata": {},
   "outputs": [
    {
     "name": "stdout",
     "output_type": "stream",
     "text": [
      "{1, 3}\n",
      "{1, 2, 3}\n",
      "{1, 2, 3, 4}\n",
      "{1, 2, 3, 4, 5, 6, 7}\n"
     ]
    }
   ],
   "source": [
    "#modifying a set\n",
    "m_set={1,3}\n",
    "print(m_set)\n",
    "m_set.add(2)\n",
    "print(m_set)\n",
    "m_set.update([2,3,4])\n",
    "print(m_set)\n",
    "m_set.update([4,5],{1,6,7})\n",
    "print(m_set)"
   ]
  },
  {
   "cell_type": "code",
   "execution_count": 66,
   "id": "0411b810",
   "metadata": {},
   "outputs": [
    {
     "name": "stdout",
     "output_type": "stream",
     "text": [
      "{'y', 'a', 'p', 'h'}\n",
      "y\n",
      "{'a', 'p', 'h'}\n"
     ]
    }
   ],
   "source": [
    "m_set=set(\"happy\")\n",
    "print(m_set)\n",
    "print(m_set.pop())\n",
    "print(m_set)"
   ]
  },
  {
   "cell_type": "code",
   "execution_count": 75,
   "id": "0cce2a4e",
   "metadata": {},
   "outputs": [
    {
     "name": "stdout",
     "output_type": "stream",
     "text": [
      "7\n",
      "INVALID INPUT\n"
     ]
    }
   ],
   "source": [
    "''' there is a jar full of candies for sale at a mall counter. Jar has the capacity N, that is jar can contain maximum N candies\n",
    "when jar is full. At any point of time. Jar can have M no of candies where M<=N candies are served to customers. Jar is never\n",
    "remain empty as when last k candies are left. Jar if refilled with new candies in such a way that jar get full\n",
    "\n",
    "write a code to implement above scenerio. Display JAR at counter with available no of candies.Input should be the no of candies\n",
    "one customer can order at point of time.Update the JAR after each purchase and display JAR at counter.\n",
    "\n",
    "output should give number of candies sold and updated no of candies in JAR\n",
    "\n",
    "if input is more than candies in JAR, return:\"INVALID INPUT\" given,\n",
    "N=10,where N is num of candies available\n",
    "k=<5, where k is the no of minimum candies that must be inside jar ever.\n",
    "\n",
    "example1:(N=10,k=<5)\n",
    "input value\n",
    " 3\n",
    "output value\n",
    " no of candies sold:3\n",
    " no of candies available:7 '''\n",
    "k=int(input())\n",
    "N=10\n",
    "if (k==0):\n",
    "    print(\"INVALID INPUT\")\n",
    "    print(f\"no of candies available:{N}\")\n",
    "elif (k<=5):\n",
    "    print(f\"no of candies sold:{k}\")\n",
    "    print(f\"no of candies available:{N-k}\")\n",
    "else:\n",
    "    print(\"INVALID INPUT\")\n",
    "    \n",
    "\n"
   ]
  },
  {
   "cell_type": "code",
   "execution_count": 89,
   "id": "c2af6172",
   "metadata": {},
   "outputs": [
    {
     "name": "stdout",
     "output_type": "stream",
     "text": [
      "6\n",
      "100001\n",
      "1\n"
     ]
    }
   ],
   "source": [
    "'''\n",
    "A digital machine generates binary data which consists of a string of 0s and 1s. A maximum signal M, in the data, consists of \n",
    "the maximum number of either 1s or 0s appearing consecutively in the data but M can’t be at the beginning or end of the string. \n",
    "Design a way to find the length of the maximum signal.\n",
    "\n",
    "Input\n",
    "The first line of the input consists of an integer N, representing the length of the binary string. The second line consists of \n",
    "a string of length N consisting of 0s and 1s only.\n",
    "\n",
    "Output\n",
    "Print an integer representing the length of the maximum signal.\n",
    "\n",
    "Example\n",
    "Example 1:\n",
    "\n",
    "Input\n",
    "6\n",
    "101000\n",
    "\n",
    "Output\n",
    "1\n",
    "\n",
    "Explanation\n",
    "For 101000, M can be 0 at the second index or at the third index so in both cases max length = 1.\n",
    "\n",
    "Example2:\n",
    "\n",
    "Input\n",
    "9\n",
    "101111110\n",
    "\n",
    "Output\n",
    "6\n",
    "\n",
    "Explanation\n",
    "For 101111110, M = 111111 so maxlength = 6.\n",
    "'''\n",
    "size=int(input())\n",
    "max=0\n",
    "count=0\n",
    "flag=0\n",
    "str=input()\n",
    "arr=list(str)\n",
    "for i in range(0,size):\n",
    "    if arr[i]=='1':\n",
    "        count=count+1\n",
    "        flag=1\n",
    "    elif (arr[i]=='0' and flag==1):\n",
    "        count=0\n",
    "        flag=0\n",
    "    if count>max:\n",
    "        max=count\n",
    "print(max)            \n",
    "   "
   ]
  },
  {
   "cell_type": "code",
   "execution_count": null,
   "id": "74e6d5b9",
   "metadata": {},
   "outputs": [],
   "source": []
  },
  {
   "cell_type": "code",
   "execution_count": null,
   "id": "37f73485",
   "metadata": {},
   "outputs": [],
   "source": []
  },
  {
   "cell_type": "code",
   "execution_count": null,
   "id": "f3d85cbb",
   "metadata": {},
   "outputs": [],
   "source": []
  }
 ],
 "metadata": {
  "kernelspec": {
   "display_name": "Python 3 (ipykernel)",
   "language": "python",
   "name": "python3"
  },
  "language_info": {
   "codemirror_mode": {
    "name": "ipython",
    "version": 3
   },
   "file_extension": ".py",
   "mimetype": "text/x-python",
   "name": "python",
   "nbconvert_exporter": "python",
   "pygments_lexer": "ipython3",
   "version": "3.9.12"
  }
 },
 "nbformat": 4,
 "nbformat_minor": 5
}
