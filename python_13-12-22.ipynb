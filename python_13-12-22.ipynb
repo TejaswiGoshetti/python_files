{
 "cells": [
  {
   "cell_type": "code",
   "execution_count": 12,
   "id": "fed29b9c",
   "metadata": {},
   "outputs": [
    {
     "name": "stdout",
     "output_type": "stream",
     "text": [
      "0\t1\t2\t3\t4\t5\t6\t7\t8\t9\t10\t"
     ]
    }
   ],
   "source": [
    "#looping statements\n",
    "#while loop\n",
    "i=0\n",
    "while (i<=10):\n",
    "    print(i, end=\"\\t\")\n",
    "    i+=1"
   ]
  },
  {
   "cell_type": "code",
   "execution_count": 6,
   "id": "bab3afb3",
   "metadata": {},
   "outputs": [
    {
     "name": "stdout",
     "output_type": "stream",
     "text": [
      "HELLO\n",
      "bye\n",
      "Hello\n"
     ]
    }
   ],
   "source": [
    "a='hello'\n",
    "print(a.upper())\n",
    "b='BYE'\n",
    "print(b.lower())\n",
    "print(a.capitalize())"
   ]
  },
  {
   "cell_type": "code",
   "execution_count": 23,
   "id": "3db70eb0",
   "metadata": {},
   "outputs": [
    {
     "name": "stdout",
     "output_type": "stream",
     "text": [
      "sum = 42\n"
     ]
    }
   ],
   "source": [
    "#write a program to add the elements between a range of (m,n)\n",
    "m=3    #m=int(input())\n",
    "n=9    #n=int(input())\n",
    "sum=0\n",
    "while(m<=n):\n",
    "    sum=sum+m\n",
    "    m=m+1\n",
    "print(\"sum =\",sum)\n"
   ]
  },
  {
   "cell_type": "code",
   "execution_count": 35,
   "id": "66cb01b7",
   "metadata": {},
   "outputs": [
    {
     "name": "stdout",
     "output_type": "stream",
     "text": [
      "123\n",
      "sum of digits : 6\n",
      "not a harshed number\n"
     ]
    }
   ],
   "source": [
    "#program to find the sum of digits in a number and to check whether the number is niven's number or not\n",
    "#123=>1+2+3=6    21=>2+1=3,21//3=7\n",
    "\n",
    "n=int(input())\n",
    "num=n\n",
    "sum=0\n",
    "while(n!=0):\n",
    "    temp=n%10\n",
    "    sum=sum+temp\n",
    "    n=n//10\n",
    "print(\"sum of digits :\",sum)\n",
    "if num%sum==0:\n",
    "    d=num//sum\n",
    "    print(\"harshed number/niven's number\")\n",
    "    print(\"division :\",d)\n",
    "else:\n",
    "    print(\"not a harshed number\")"
   ]
  },
  {
   "cell_type": "code",
   "execution_count": 37,
   "id": "abc5fb1e",
   "metadata": {},
   "outputs": [
    {
     "name": "stdout",
     "output_type": "stream",
     "text": [
      "123\n",
      "3 2 1 "
     ]
    }
   ],
   "source": [
    "#program to print reverse of a given number using while loop\n",
    "#123=> rev = 3 2 1\n",
    "\n",
    "n=int(input())\n",
    "while(n!=0):\n",
    "    rev=n%10\n",
    "    print(rev,end=\" \")\n",
    "    n=n//10"
   ]
  },
  {
   "cell_type": "code",
   "execution_count": 38,
   "id": "9805cc12",
   "metadata": {},
   "outputs": [
    {
     "name": "stdout",
     "output_type": "stream",
     "text": [
      "reversed number is :4321\n"
     ]
    }
   ],
   "source": [
    "#program to check reverse number using join keyword\n",
    "num =1234\n",
    "n_string=str(num)\n",
    "r_num=\"\".join(reversed(n_string))\n",
    "print(\"reversed number is :\"+r_num)"
   ]
  },
  {
   "cell_type": "code",
   "execution_count": 40,
   "id": "12f43f02",
   "metadata": {},
   "outputs": [
    {
     "name": "stdout",
     "output_type": "stream",
     "text": [
      "reversed number is :4321\n"
     ]
    }
   ],
   "source": [
    "#program to check reverse number using function recursion\n",
    "def reverse(n):\n",
    "    if len(n)==0:\n",
    "        return n\n",
    "    return reverse(n[1:]) +n[0]\n",
    "num =1234\n",
    "n_string=str(num)\n",
    "r_num=reverse(n_string)\n",
    "print(\"reversed number is :\"+r_num)"
   ]
  },
  {
   "cell_type": "code",
   "execution_count": 46,
   "id": "7ff6664b",
   "metadata": {},
   "outputs": [
    {
     "name": "stdout",
     "output_type": "stream",
     "text": [
      "10\n",
      "5.5\n"
     ]
    }
   ],
   "source": [
    "#program to calculate average of the first n numbers using for loop\n",
    "i=1\n",
    "sum=0\n",
    "avg=0.0\n",
    "n=int(input())\n",
    "for i in range(n+1):   #for i in range(1,n+1):  (if i=1 not intialized)\n",
    "    sum=sum+i\n",
    "avg=sum/n\n",
    "print(avg)"
   ]
  },
  {
   "cell_type": "code",
   "execution_count": 52,
   "id": "a4a346c1",
   "metadata": {},
   "outputs": [
    {
     "name": "stdout",
     "output_type": "stream",
     "text": [
      "5\n",
      "5 * 1 = 5\n",
      "5 * 2 = 10\n",
      "5 * 3 = 15\n",
      "5 * 4 = 20\n",
      "5 * 5 = 25\n",
      "5 * 6 = 30\n",
      "5 * 7 = 35\n",
      "5 * 8 = 40\n",
      "5 * 9 = 45\n",
      "5 * 10 = 50\n"
     ]
    }
   ],
   "source": [
    "#program to find multiplication table using for loop\n",
    "n =int(input())\n",
    "for i in range(1,11):\n",
    "    print(n,\"*\",i ,\"=\",n*i)"
   ]
  },
  {
   "cell_type": "code",
   "execution_count": 54,
   "id": "2eadd4dc",
   "metadata": {},
   "outputs": [
    {
     "name": "stdout",
     "output_type": "stream",
     "text": [
      "1900 1904 1908 1912 1916 1920 1924 1928 1932 1936 1940 1944 1948 1952 1956 1960 1964 1968 1972 1976 1980 1984 1988 1992 1996 2000 2004 2008 2012 2016 2020 2024 2028 2032 2036 2040 2044 2048 2052 2056 2060 2064 2068 2072 2076 2080 2084 2088 2092 2096 2100 "
     ]
    }
   ],
   "source": [
    "#program to print leap year\n",
    "for i in range(1900,2101):\n",
    "    if i%4==0:\n",
    "        print(i, end=\" \")"
   ]
  },
  {
   "cell_type": "code",
   "execution_count": 62,
   "id": "9efd80ab",
   "metadata": {},
   "outputs": [
    {
     "name": "stdout",
     "output_type": "stream",
     "text": [
      "enter nth term:5\n",
      "the sum of 1+(1/2)+(1/3)++.....(1/5) is 2.283333333333333\n"
     ]
    }
   ],
   "source": [
    "#series:1+(1/2)+(1/3)+(1/4)+.....(1/n)\n",
    "n=int(input(\"enter nth term:\"))\n",
    "sum=0.0\n",
    "for i in range(1,n+1):\n",
    "    a=1.0/i\n",
    "    sum=sum+a\n",
    "print(\"the sum of 1+(1/2)+(1/3)++.....(1/\"+str(n)+\") is\",str(sum))"
   ]
  },
  {
   "cell_type": "code",
   "execution_count": 69,
   "id": "0457ee60",
   "metadata": {},
   "outputs": [
    {
     "name": "stdout",
     "output_type": "stream",
     "text": [
      "enter nth term:5\n",
      "the sum of 1+(1/2^2)+(1/3^2)++.....(1/5^2) is 1.4636111111111112\n"
     ]
    }
   ],
   "source": [
    "#series:1+(1/2^2)+(1/3^2)+(1/4^2)+.....(1/n^2)\n",
    "n=int(input(\"enter nth term:\"))\n",
    "sum=0.0\n",
    "for i in range(1,n+1):\n",
    "    a=1.0/i**2\n",
    "    sum=sum+a\n",
    "print(\"the sum of 1+(1/2^2)+(1/3^2)++.....(1/\"+str(n)+\"^2) is\",str(sum))"
   ]
  },
  {
   "cell_type": "code",
   "execution_count": 78,
   "id": "784b8503",
   "metadata": {},
   "outputs": [
    {
     "name": "stdout",
     "output_type": "stream",
     "text": [
      "$$$$hi$$$$\n"
     ]
    }
   ],
   "source": [
    "#   $$$$hi$$$$\n",
    "str=\"hi\"\n",
    "print(str.center(10,'$'))"
   ]
  },
  {
   "cell_type": "code",
   "execution_count": 85,
   "id": "5b947b45",
   "metadata": {},
   "outputs": [
    {
     "name": "stdout",
     "output_type": "stream",
     "text": [
      "2\n"
     ]
    }
   ],
   "source": [
    "#length of the substring from a string\n",
    "str=\"ll\"\n",
    "substr=\"hehellhehell\"\n",
    "print(substr.count(str,0,len(substr)))"
   ]
  },
  {
   "cell_type": "code",
   "execution_count": 86,
   "id": "e1a92c57",
   "metadata": {},
   "outputs": [
    {
     "name": "stdout",
     "output_type": "stream",
     "text": [
      "6\n"
     ]
    }
   ],
   "source": [
    "#location or place of word from a string\n",
    "str='he is my cousin'\n",
    "print(str.find(\"my\",0,len(str)))"
   ]
  },
  {
   "cell_type": "code",
   "execution_count": 88,
   "id": "5c1ce7c7",
   "metadata": {},
   "outputs": [
    {
     "name": "stdout",
     "output_type": "stream",
     "text": [
      "^^^^^^^^^^^^^^^^^^hi\n"
     ]
    }
   ],
   "source": [
    "#syntax for left justication\n",
    "#just(width[,fillchar])\n",
    "str='hi'\n",
    "print(str.rjust(20,'^'))"
   ]
  },
  {
   "cell_type": "code",
   "execution_count": 89,
   "id": "906de7eb",
   "metadata": {},
   "outputs": [
    {
     "name": "stdout",
     "output_type": "stream",
     "text": [
      "00000000000006\n"
     ]
    }
   ],
   "source": [
    "#syntax for zfill(width)\n",
    "str=\"6\"\n",
    "print(str.zfill(14))"
   ]
  },
  {
   "cell_type": "code",
   "execution_count": 93,
   "id": "f28c5946",
   "metadata": {},
   "outputs": [
    {
     "name": "stdout",
     "output_type": "stream",
     "text": [
      "The Pormetheus Has A Ship\n",
      "THE PORMETHEUS HAs A ShIP\n",
      "[(0, 't'), (1, 'h'), (2, 'e'), (3, ' '), (4, 'p'), (5, 'o'), (6, 'r'), (7, 'm'), (8, 'e'), (9, 't'), (10, 'h'), (11, 'e'), (12, 'u'), (13, 's'), (14, ' '), (15, 'h'), (16, 'a'), (17, 'S'), (18, ' '), (19, 'a'), (20, ' '), (21, 's'), (22, 'H'), (23, 'i'), (24, 'p')]\n"
     ]
    }
   ],
   "source": [
    "str=\"the pormetheus haS a sHip\"\n",
    "print(str.title())\n",
    "print(str.swapcase())  #opposite\n",
    "print(list(enumerate(str)))   #index value of each letter as list"
   ]
  },
  {
   "cell_type": "code",
   "execution_count": 98,
   "id": "e443f4be",
   "metadata": {},
   "outputs": [
    {
     "name": "stdout",
     "output_type": "stream",
     "text": [
      "r o s e   i s   a   b e a u t i f u l   f l o w e r "
     ]
    }
   ],
   "source": [
    "str=\"rose is a beautiful flower\"\n",
    "for i in str:\n",
    "    print(i,end=\" \")"
   ]
  },
  {
   "cell_type": "code",
   "execution_count": 99,
   "id": "f2de86e1",
   "metadata": {},
   "outputs": [
    {
     "name": "stdout",
     "output_type": "stream",
     "text": [
      "j o e j b "
     ]
    }
   ],
   "source": [
    "#caeser cipher\n",
    "str=\"india\"\n",
    "index=0\n",
    "while index<len(str):\n",
    "    letter=str[index]\n",
    "    print(chr(ord(letter)+1),end=\" \")\n",
    "    index+=1"
   ]
  },
  {
   "cell_type": "code",
   "execution_count": 104,
   "id": "f06dca8f",
   "metadata": {},
   "outputs": [
    {
     "name": "stdout",
     "output_type": "stream",
     "text": [
      "105\n"
     ]
    }
   ],
   "source": [
    "print(ord('i'))"
   ]
  },
  {
   "cell_type": "code",
   "execution_count": 108,
   "id": "a07ac2b3",
   "metadata": {},
   "outputs": [
    {
     "name": "stdout",
     "output_type": "stream",
     "text": [
      "aate\n",
      "bate\n",
      "cate\n",
      "date\n",
      "eate\n",
      "fate\n"
     ]
    }
   ],
   "source": [
    "#abecedarian series\n",
    "str='ate'\n",
    "list=['a','b','c','d','e','f']\n",
    "for i in list:\n",
    "    print(i+str)"
   ]
  },
  {
   "cell_type": "code",
   "execution_count": 110,
   "id": "94510a6f",
   "metadata": {},
   "outputs": [
    {
     "name": "stdout",
     "output_type": "stream",
     "text": [
      "10\n",
      "0 0 7 6 14 12 21 18 28 24 35 30 42 36 49 42 56 48 63 54 70 60 "
     ]
    }
   ],
   "source": [
    "''' 0,0,7,6,14,12,21,18...n terms'''\n",
    "n=int(input())\n",
    "for i in range(0,n+1):\n",
    "    print(7*i,end=\" \")\n",
    "    print(6*i,end=\" \")"
   ]
  },
  {
   "cell_type": "code",
   "execution_count": 134,
   "id": "5acecf1f",
   "metadata": {},
   "outputs": [
    {
     "name": "stdout",
     "output_type": "stream",
     "text": [
      "13\n",
      "13 at accordance 42\n"
     ]
    }
   ],
   "source": [
    "'''find the 12th position \n",
    "    13th position'''\n",
    "n=int(input())\n",
    "a=b=0\n",
    "for i in range(0,n+1):\n",
    "    if(i%2!=0):\n",
    "        a=a+7\n",
    "    else:\n",
    "        b=b+6\n",
    "if n%2!=0:\n",
    "    print('{} at accordance {}'.format(n,a-7))\n",
    "else:\n",
    "    print('{} at accordance {}'.format(n,b-6))"
   ]
  },
  {
   "cell_type": "code",
   "execution_count": 143,
   "id": "92be7fb9",
   "metadata": {},
   "outputs": [
    {
     "name": "stdout",
     "output_type": "stream",
     "text": [
      "enter nth term:5\n",
      "[0, 0, 7, 6, 14, 12, 21, 18, 28, 24, 35, 30]\n",
      "enter position to find value:12\n",
      "30\n"
     ]
    }
   ],
   "source": [
    "n=int(input(\"enter nth term:\"))\n",
    "list=[]\n",
    "for i in range(0,n+1):\n",
    "    a=7*i\n",
    "    list.append(a)\n",
    "    b=6*i\n",
    "    list.append(b)\n",
    "print(list)\n",
    "#l=len(list)\n",
    "num=int(input(\"enter position to find value:\"))\n",
    "print(list[num-1])\n"
   ]
  },
  {
   "cell_type": "code",
   "execution_count": 142,
   "id": "5993e740",
   "metadata": {},
   "outputs": [
    {
     "name": "stdout",
     "output_type": "stream",
     "text": [
      "10\n",
      "1 1 2 3 4 9 8 27 16 81 32 243 64 729 128 2187 256 6561 512 19683 1024 59049 "
     ]
    }
   ],
   "source": [
    "#print series 1 1 2 3 4 9 8 27 16 81 32 243 64 729 128 2187....\n",
    "n=int(input())\n",
    "for i in range(0,n+1):\n",
    "    print(2**i,end=\" \")\n",
    "    print(3**i,end=\" \")"
   ]
  },
  {
   "cell_type": "code",
   "execution_count": 141,
   "id": "19fe878f",
   "metadata": {},
   "outputs": [
    {
     "name": "stdout",
     "output_type": "stream",
     "text": [
      "8\n",
      "[1, 1, 2, 3, 4, 9, 8, 27, 16, 81, 32, 243, 64, 729, 128, 2187, 256, 6561]\n",
      "the nth term of the list is 6561\n",
      "enter position to find term:5\n",
      "4\n"
     ]
    }
   ],
   "source": [
    "'''find the nth term of the series\n",
    " 1 1 2 3 4 9 8 27 16 81 32 243 64 729 128 2187...'''\n",
    "n=int(input())\n",
    "list=[]\n",
    "for i in range(0,n+1):\n",
    "    a=2**i\n",
    "    list.append(a)\n",
    "    b=3**i\n",
    "    list.append(b)\n",
    "print(list)\n",
    "l=len(list)\n",
    "print(\"the nth term of the list is\",list[l-1])\n",
    "num=int(input(\"enter position to find term:\"))\n",
    "print(list[num-1])"
   ]
  },
  {
   "cell_type": "code",
   "execution_count": 144,
   "id": "16e9776e",
   "metadata": {},
   "outputs": [
    {
     "name": "stdout",
     "output_type": "stream",
     "text": [
      "10\n",
      "5\n",
      "2\n",
      "6\n",
      "9\n",
      "3\n",
      "2\n",
      "7\n",
      "5\n"
     ]
    }
   ],
   "source": [
    "'''Andy wants to go on a vacation to de-stress himself. Therefore he decides to take a trip to an island. It is given that he\n",
    "has as many consecutive days as possible to rest, but he can only make one trip to the island. Suppose that the days are\n",
    "numbered from 1 to N. Andy has M obligations in his schedule, which he has already undertaken and which correspond to \n",
    "some specific days. This means that ith obligation is scheduled for day Di. Andy is willing to cancel at most k of his \n",
    "obligations in order to take more holidays.\n",
    "\n",
    " Your task is to find out the maximum days of vacation Andy can take by canceling at most K of his obligations.\n",
    "   Input Format\n",
    "\n",
    "The first line contains an integer N, denoting the total number of days\n",
    "The next line contains an integer M denoting the total number of obligations.\n",
    "The next line contains an integer K denoting the largest number of obligations he could cancel \n",
    "Each line i of the M subsequent lines (where 0<=i<=M) contains an integer describing Di.\n",
    "Constraints\n",
    "\n",
    "1<=N<=10^6\n",
    "1<=M<=2*10^6\n",
    "1<=K<=2*10^6\n",
    "1<=D[i]<=10^6\n",
    "\n",
    "   Sample Input 1:\n",
    "\n",
    "   10\n",
    "    5\n",
    "    2\n",
    "    6\n",
    "    9\n",
    "    3\n",
    "    2\n",
    "    7\n",
    "\n",
    "   Sample Output 1 :\n",
    "\n",
    "    5\n",
    "\n",
    "   Explanation:\n",
    "\n",
    "    Here he could cancel his 3rd and 4th obligation which makes vacation length 5.\n",
    "\n",
    "   Sample input 2:\n",
    "\n",
    "    7\n",
    "    2\n",
    "    0\n",
    "    3\n",
    "    4\n",
    "\n",
    "   Sample Output 2:\n",
    "\n",
    "     3\n",
    "\n",
    "   Explanation:\n",
    "\n",
    "    Here he could not cancel any obligation since K=0, so the vacation length is 3.'''\n",
    "n = int(input())\n",
    "m = int(input())\n",
    "k = int(input())\n",
    "arr = [0] * n\n",
    "for i in range(m):\n",
    "   arr[i] = int(input())\n",
    "ans = 0\n",
    "arr.sort()\n",
    "if k > 0:\n",
    "   for i in range(k + 1, m + 3, 1):\n",
    "       ans = max(ans, arr[i] - arr[i - k - 1] - 1)\n",
    "else:\n",
    "   j = 0\n",
    "   while arr[j] == 0:\n",
    "       j = j + 1\n",
    "   count = 0\n",
    "   for i in range(1, n + 1, 1):\n",
    "       count += 1\n",
    "       if j < n and (i == arr[j]):\n",
    "           count = 0\n",
    "\n",
    "           j += 1\n",
    "       ans = max(count, ans)\n",
    "print(ans)"
   ]
  },
  {
   "cell_type": "code",
   "execution_count": null,
   "id": "021c13d0",
   "metadata": {},
   "outputs": [],
   "source": []
  }
 ],
 "metadata": {
  "kernelspec": {
   "display_name": "Python 3 (ipykernel)",
   "language": "python",
   "name": "python3"
  },
  "language_info": {
   "codemirror_mode": {
    "name": "ipython",
    "version": 3
   },
   "file_extension": ".py",
   "mimetype": "text/x-python",
   "name": "python",
   "nbconvert_exporter": "python",
   "pygments_lexer": "ipython3",
   "version": "3.9.12"
  }
 },
 "nbformat": 4,
 "nbformat_minor": 5
}
