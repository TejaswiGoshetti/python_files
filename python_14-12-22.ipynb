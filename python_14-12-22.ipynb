{
 "cells": [
  {
   "cell_type": "code",
   "execution_count": 1,
   "id": "a95b19e7",
   "metadata": {},
   "outputs": [
    {
     "name": "stdout",
     "output_type": "stream",
     "text": [
      "Aate Bate Cate Date Eate Fate "
     ]
    }
   ],
   "source": [
    "#abecedarian series\n",
    "str1=\"ABCDEF\"\n",
    "str2=\"ate\"\n",
    "for letter in str1:\n",
    "    print(letter+str2,end=\" \")"
   ]
  },
  {
   "cell_type": "code",
   "execution_count": 7,
   "id": "ee0919a6",
   "metadata": {},
   "outputs": [
    {
     "name": "stdout",
     "output_type": "stream",
     "text": [
      "5\n",
      "1 \n",
      "\n",
      "1 2 \n",
      "\n",
      "1 2 3 \n",
      "\n",
      "1 2 3 4 \n",
      "\n",
      "1 2 3 4 5 \n",
      "\n"
     ]
    }
   ],
   "source": [
    "#right angle pattern(basic pattern)\n",
    "rows=int(input())\n",
    "for i in range (rows):\n",
    "    for j in range(i+1):\n",
    "        print(j+1,end=' ') #print(\"*\",end=' ')\n",
    "    print(\"\\n\")"
   ]
  },
  {
   "cell_type": "code",
   "execution_count": 10,
   "id": "0c13a5c1",
   "metadata": {},
   "outputs": [
    {
     "name": "stdout",
     "output_type": "stream",
     "text": [
      "5\n",
      "1 2 3 4 5 \n",
      "\n",
      "1 2 3 4 \n",
      "\n",
      "1 2 3 \n",
      "\n",
      "1 2 \n",
      "\n",
      "1 \n",
      "\n"
     ]
    }
   ],
   "source": [
    "#mirror image of right angle pattern\n",
    "rows=int(input())\n",
    "for i in range(rows,0,-1):\n",
    "    for j in range(0,i):\n",
    "        print(j+1,end=' ')\n",
    "    print(\"\\n\")"
   ]
  },
  {
   "cell_type": "code",
   "execution_count": 18,
   "id": "fb8d200f",
   "metadata": {},
   "outputs": [
    {
     "name": "stdout",
     "output_type": "stream",
     "text": [
      "5\n",
      "1 2 3 4 5 \n",
      "\n",
      "  2 3 4 5 \n",
      "\n",
      "    3 4 5 \n",
      "\n",
      "      4 5 \n",
      "\n",
      "        5 \n",
      "\n"
     ]
    }
   ],
   "source": [
    "#inverse of right angle \n",
    "rows=int(input())\n",
    "for i in range(1,rows+1):\n",
    "    for j in range(1,rows+1):\n",
    "        if(j<i):\n",
    "            print(\" \",end=' ')\n",
    "        else:\n",
    "            print(j,end=' ')\n",
    "    print(\"\\n\")"
   ]
  },
  {
   "cell_type": "code",
   "execution_count": 4,
   "id": "86c17ac9",
   "metadata": {},
   "outputs": [
    {
     "name": "stdout",
     "output_type": "stream",
     "text": [
      "5\n",
      "          1 \n",
      "\n",
      "        2 1 \n",
      "\n",
      "      3 2 1 \n",
      "\n",
      "    4 3 2 1 \n",
      "\n",
      "  5 4 3 2 1 \n",
      "\n"
     ]
    }
   ],
   "source": [
    "rows=int(input())\n",
    "for i in range(1,rows+1):\n",
    "    for j in range(rows+1,0,-1):\n",
    "        if(j<=i):\n",
    "            print(j,end=' ')\n",
    "        else:\n",
    "            print(' ',end=' ')\n",
    "    print(\"\\n\")"
   ]
  },
  {
   "cell_type": "code",
   "execution_count": 16,
   "id": "d8c6c989",
   "metadata": {},
   "outputs": [
    {
     "name": "stdout",
     "output_type": "stream",
     "text": [
      "5\n",
      "          \n",
      "\n",
      "        1 \n",
      "\n",
      "      1 2 \n",
      "\n",
      "    1 2 3 \n",
      "\n",
      "  1 2 3 4 \n",
      "\n",
      "1 2 3 4 5 \n",
      "\n"
     ]
    }
   ],
   "source": [
    "rows=int(input())\n",
    "for i in range(rows+1,0,-1):\n",
    "    for j in range(1,rows+1):\n",
    "        if(j<i):\n",
    "            print(' ',end=' ')\n",
    "        else:\n",
    "            print((j-i)+1,end=' ')\n",
    "    print(\"\\n\")"
   ]
  },
  {
   "cell_type": "code",
   "execution_count": 11,
   "id": "51375b47",
   "metadata": {},
   "outputs": [
    {
     "name": "stdout",
     "output_type": "stream",
     "text": [
      "6\n",
      "          * \n",
      "        *   *\n",
      "      *       *\n",
      "    *           *\n",
      "  *               *\n",
      "*                   *\n",
      "  *               *\n",
      "    *           *\n",
      "      *       *\n",
      "        *   *\n",
      "          * \n"
     ]
    }
   ],
   "source": [
    "#rhombus pattern using while \n",
    "rows=int(input())\n",
    "i=1\n",
    "while i<=rows:\n",
    "    j=rows\n",
    "    while j>i:\n",
    "        print(' ',end=' ')\n",
    "        j-=1\n",
    "    print('*',end=' ')\n",
    "    k=1\n",
    "    while k<2 *(i-1):\n",
    "        print(' ',end=' ')\n",
    "        k+=1\n",
    "    if i==1:\n",
    "        print()\n",
    "    else:\n",
    "        print(\"*\")\n",
    "    i+=1\n",
    "i=rows-1\n",
    "while i>=1:\n",
    "    j=rows\n",
    "    while j>i:\n",
    "        print(' ',end=' ')\n",
    "        j-=1\n",
    "    print('*',end=' ')\n",
    "    k=1\n",
    "    while k<2*(i-1):\n",
    "        print(' ',end=' ')\n",
    "        k+=1\n",
    "    if i==1:\n",
    "        print()\n",
    "    else:\n",
    "        print('*')\n",
    "    i-=1"
   ]
  },
  {
   "cell_type": "code",
   "execution_count": 14,
   "id": "2c772ccf",
   "metadata": {},
   "outputs": [
    {
     "name": "stdout",
     "output_type": "stream",
     "text": [
      "6\n",
      "          *  \n",
      "         * *  \n",
      "        * * *  \n",
      "       * * * *  \n",
      "      * * * * *  \n",
      "     * * * * * *  \n",
      "    * * * * * * * \n",
      "     * * * * * * \n",
      "      * * * * * \n",
      "       * * * * \n",
      "        * * * \n",
      "         * * \n",
      "          * \n"
     ]
    }
   ],
   "source": [
    "#diamond using for loop\n",
    "rows=int(input())\n",
    "k=2*rows-2\n",
    "for i in range(0,rows):\n",
    "    for j in range(0,k):\n",
    "        print(end=' ')\n",
    "    k=k-1\n",
    "    for j in range(0,i+1):\n",
    "        print('*',end=' ')\n",
    "    print(\" \")\n",
    "k=rows-2\n",
    "for i in range(rows,-1,-1):\n",
    "    for j in range(k,0,-1):\n",
    "        print(end=' ')\n",
    "    k=k+1\n",
    "    for j in range(0,i+1):\n",
    "        print(\"*\",end=' ')\n",
    "    print()"
   ]
  },
  {
   "cell_type": "code",
   "execution_count": 17,
   "id": "d0fc6070",
   "metadata": {},
   "outputs": [
    {
     "name": "stdout",
     "output_type": "stream",
     "text": [
      "india\n",
      "i\n",
      "in\n",
      "ind\n",
      "indi\n",
      "india\n"
     ]
    }
   ],
   "source": [
    "word=str(input())\n",
    "x=''\n",
    "for i in word:\n",
    "    x+=i\n",
    "    print(x)"
   ]
  },
  {
   "cell_type": "code",
   "execution_count": 25,
   "id": "e848694c",
   "metadata": {},
   "outputs": [
    {
     "name": "stdout",
     "output_type": "stream",
     "text": [
      "A \n",
      "B C \n",
      "D E F \n",
      "G H I J \n",
      "K L M N O \n",
      "P Q R S T U \n",
      "V W X Y Z [ \\ \n",
      "] ^ _ ` a b c d \n",
      "e f g h i j k l m \n",
      "n o p q r s t u v w \n",
      "x y z { | } ~     \n"
     ]
    }
   ],
   "source": [
    "a=65\n",
    "r=11\n",
    "for i in range(0,r):\n",
    "    for j in range(0,i+1):\n",
    "        ch=chr(a)\n",
    "        print(ch,end=' ')\n",
    "        a+=1\n",
    "    print('')\n",
    "    "
   ]
  },
  {
   "cell_type": "code",
   "execution_count": 44,
   "id": "3bd111c8",
   "metadata": {},
   "outputs": [
    {
     "name": "stdout",
     "output_type": "stream",
     "text": [
      "                                                                                                                                A \n",
      "                                                                                                                               B C \n",
      "                                                                                                                              D E F \n",
      "                                                                                                                             G H I J \n",
      "                                                                                                                            K L M N O \n"
     ]
    }
   ],
   "source": [
    "a=65\n",
    "r=5\n",
    "m=(2*a)-2\n",
    "for i in range(0,r):\n",
    "    for j in range(0,m):\n",
    "        print(end=' ')\n",
    "    m=m-1\n",
    "    for j in range(0,i+1):\n",
    "        ch=chr(a)\n",
    "        print(ch,end=' ')\n",
    "        a+=1\n",
    "    print('')"
   ]
  },
  {
   "cell_type": "code",
   "execution_count": 43,
   "id": "7c66a8cf",
   "metadata": {},
   "outputs": [
    {
     "name": "stdout",
     "output_type": "stream",
     "text": [
      "1 \n",
      "2 4 \n",
      "3 6 9 \n",
      "4 8 12 16 \n",
      "5 10 15 20 25 \n",
      "6 12 18 24 30 36 \n",
      "7 14 21 28 35 42 49 \n",
      "8 16 24 32 40 48 56 64 \n",
      "9 18 27 36 45 54 63 72 81 \n",
      "10 20 30 40 50 60 70 80 90 100 \n"
     ]
    }
   ],
   "source": [
    "rows=10\n",
    "for i in range(1,rows+1):\n",
    "    for j in range(1,i+1):\n",
    "        print(i*j,end=' ')\n",
    "    print()"
   ]
  },
  {
   "cell_type": "markdown",
   "id": "c1a131cf",
   "metadata": {},
   "source": [
    "# funtions"
   ]
  },
  {
   "cell_type": "code",
   "execution_count": 46,
   "id": "417699e8",
   "metadata": {},
   "outputs": [
    {
     "name": "stdout",
     "output_type": "stream",
     "text": [
      "10\n"
     ]
    }
   ],
   "source": [
    "#substraction using functions\n",
    "def diff(a,b):\n",
    "    return a-b\n",
    "x=20\n",
    "y=10\n",
    "#operation=diff\n",
    "print(diff(x,y))"
   ]
  },
  {
   "cell_type": "code",
   "execution_count": 47,
   "id": "92acfabe",
   "metadata": {},
   "outputs": [
    {
     "name": "stdout",
     "output_type": "stream",
     "text": [
      "hello beautiful\n",
      "hello beautiful\n",
      "hello beautiful\n",
      "hello beautiful\n",
      "hello beautiful\n"
     ]
    }
   ],
   "source": [
    "#program to display a string n no of times\n",
    "def fun():\n",
    "    for i in range(5):\n",
    "        print('hello beautiful')\n",
    "fun()"
   ]
  },
  {
   "cell_type": "code",
   "execution_count": 48,
   "id": "a58bd265",
   "metadata": {},
   "outputs": [
    {
     "name": "stdout",
     "output_type": "stream",
     "text": [
      "14\n"
     ]
    }
   ],
   "source": [
    "def diff(a,b):\n",
    "    result=a-b\n",
    "    print(result)\n",
    "a=30\n",
    "b=16\n",
    "diff(a,b)"
   ]
  },
  {
   "cell_type": "code",
   "execution_count": 2,
   "id": "861a134d",
   "metadata": {
    "scrolled": true
   },
   "outputs": [
    {
     "name": "stdout",
     "output_type": "stream",
     "text": [
      "2\n",
      "10 \n",
      "2 3 5 7 "
     ]
    }
   ],
   "source": [
    "'''To speed up his composition of generating unpredictable rhythms, blue bandit wants the list of prime numbers available in a\n",
    "range of numbers.Can you help him out?\n",
    "\n",
    "Write a program to print all prime numbers in the interval [a,b] (a and b, both inclusive).\n",
    "\n",
    "Note\n",
    "\n",
    "Input 1 should be lesser than Input 2. Both the inputs should be positive. \n",
    "Range must always be greater than zero.\n",
    "If any of the condition mentioned above fails, then display \"Provide valid input\"\n",
    "Use a minimum of one for loop and one while loop\n",
    "Sample Input 1:\n",
    "\n",
    "2\n",
    "\n",
    "15\n",
    "\n",
    "Sample Output 1:\n",
    "\n",
    "2 3 5 7 11 13\n",
    "\n",
    "Sample Input 2:\n",
    "\n",
    "8\n",
    "\n",
    "5\n",
    "\n",
    "Sample Output 2:\n",
    "\n",
    "Provide valid input'''\n",
    "\n",
    "a=int(input())\n",
    "b=int(input())\n",
    "if(a<=0 or b<=0 or a>=b):\n",
    "    print(\"Provide valid input\")\n",
    "else:\n",
    "    while(a<=b):\n",
    "        if a==2:\n",
    "            print(a,end=' ')\n",
    "        elif(a==1):\n",
    "            a+=1\n",
    "            continue\n",
    "        else:\n",
    "            flag=0\n",
    "            for i in range(2,a//2+1):\n",
    "                if(a%i==0):\n",
    "                    flag=1\n",
    "                    break\n",
    "            if flag==0:\n",
    "                print(a,end=' ')\n",
    "        a+=1\n",
    "                "
   ]
  },
  {
   "cell_type": "code",
   "execution_count": null,
   "id": "ecc07811",
   "metadata": {},
   "outputs": [],
   "source": [
    "#X-pattern\n",
    "rows=int(input())\n",
    "for i in range(0,rows):\n",
    "    for j in range(0,rows):\n",
    "        if(i==j or j==rows-i-1):\n",
    "            print('*',end=' ')\n",
    "        else:\n",
    "            print(' ',end=' ')\n",
    "    print()"
   ]
  },
  {
   "cell_type": "code",
   "execution_count": 92,
   "id": "2995f882",
   "metadata": {},
   "outputs": [
    {
     "name": "stdout",
     "output_type": "stream",
     "text": [
      "5\n",
      "    *     \n",
      "    *     \n",
      "* * * * * \n",
      "    *     \n",
      "    *     \n"
     ]
    }
   ],
   "source": [
    "#+-pattern\n",
    "rows=int(input())\n",
    "for i in range(1,rows+1):\n",
    "    for j in range(1,rows+1):\n",
    "        if(i==rows//2+1 or j==rows//2+1):\n",
    "            print(\"*\",end=' ')\n",
    "        else:\n",
    "            print(' ',end=' ')\n",
    "    print()\n"
   ]
  },
  {
   "cell_type": "code",
   "execution_count": 99,
   "id": "54ec5d65",
   "metadata": {},
   "outputs": [
    {
     "name": "stdout",
     "output_type": "stream",
     "text": [
      "5\n",
      "* * * * * \n",
      " * * * * \n",
      "  * * * \n",
      "   * * \n",
      "    * \n",
      "    * \n",
      "   * * \n",
      "  * * * \n",
      " * * * * \n",
      "* * * * * \n"
     ]
    }
   ],
   "source": [
    "rows=int(input())\n",
    "for i in range(0,rows):\n",
    "    for j in range(0,i):\n",
    "        print(end=' ')\n",
    "    for k in range(i,rows):\n",
    "        print(\"*\",end=' ')\n",
    "    print()\n",
    "for i in range(rows-1,-1,-1):\n",
    "    for j in range(0,i):\n",
    "        print(end=' ')\n",
    "    for k in range(i,rows):\n",
    "        print('*',end=' ')\n",
    "    print()"
   ]
  },
  {
   "cell_type": "code",
   "execution_count": 102,
   "id": "7e542cc7",
   "metadata": {},
   "outputs": [
    {
     "name": "stdout",
     "output_type": "stream",
     "text": [
      "9\n",
      "* * * * * \n",
      "  * * * * \n",
      "    * * * \n",
      "      * * \n",
      "        * \n",
      "      * * \n",
      "    * * * \n",
      "  * * * * \n",
      "* * * * * \n"
     ]
    }
   ],
   "source": [
    "n=int(input())\n",
    "val=0\n",
    "st=int(n/2+1)\n",
    "if n%2!=0:\n",
    "    for i in range(1,int(n/2+2)):\n",
    "        for j in range(1,val+1):\n",
    "            print(' ',end=' ')\n",
    "        for k in range(1,st+1):\n",
    "            print(\"*\",end=' ')\n",
    "        print()\n",
    "        val+=1\n",
    "        st-=1\n",
    "    val-=2\n",
    "    st+=2\n",
    "    for i in range(int(n/2+2),n+1):\n",
    "        for j in range(1,val+1):\n",
    "            print(' ',end=' ')\n",
    "        for k in range(1,st+1):\n",
    "            print('*',end=' ')\n",
    "        print()\n",
    "        val-=1\n",
    "        st+=1\n",
    "else:\n",
    "    print(\"provide accurate input\")"
   ]
  },
  {
   "cell_type": "code",
   "execution_count": null,
   "id": "af84db8d",
   "metadata": {},
   "outputs": [],
   "source": []
  },
  {
   "cell_type": "code",
   "execution_count": null,
   "id": "2c3cb653",
   "metadata": {},
   "outputs": [],
   "source": [
    " "
   ]
  }
 ],
 "metadata": {
  "kernelspec": {
   "display_name": "Python 3 (ipykernel)",
   "language": "python",
   "name": "python3"
  },
  "language_info": {
   "codemirror_mode": {
    "name": "ipython",
    "version": 3
   },
   "file_extension": ".py",
   "mimetype": "text/x-python",
   "name": "python",
   "nbconvert_exporter": "python",
   "pygments_lexer": "ipython3",
   "version": "3.9.12"
  }
 },
 "nbformat": 4,
 "nbformat_minor": 5
}
