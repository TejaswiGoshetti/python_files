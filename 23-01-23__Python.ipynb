{
 "cells": [
  {
   "cell_type": "code",
   "execution_count": 3,
   "id": "0626c44f",
   "metadata": {},
   "outputs": [
    {
     "name": "stdout",
     "output_type": "stream",
     "text": [
      "3\n",
      "4\n",
      "1\n",
      "b is greater\n"
     ]
    }
   ],
   "source": [
    "#program to find greatest of 3 numbers\n",
    "a=int(input())\n",
    "b=int(input())\n",
    "c=int(input())\n",
    "if a>b and a>c:\n",
    "    print(\"a is greater\")\n",
    "elif b>a and b>c:\n",
    "    print(\"b is greater\")\n",
    "else:\n",
    "    print(\"c is greater\")"
   ]
  },
  {
   "cell_type": "code",
   "execution_count": 4,
   "id": "9ccc562a",
   "metadata": {},
   "outputs": [
    {
     "name": "stdout",
     "output_type": "stream",
     "text": [
      "5\n",
      "1 \n",
      "\n",
      "1 2 \n",
      "\n",
      "1 2 3 \n",
      "\n",
      "1 2 3 4 \n",
      "\n",
      "1 2 3 4 5 \n",
      "\n"
     ]
    }
   ],
   "source": [
    "#right angle pattern(basic pattern)\n",
    "rows=int(input())\n",
    "for i in range (rows):\n",
    "    for j in range(i+1):\n",
    "        print(j+1,end=' ')\n",
    "    print(\"\\n\")"
   ]
  },
  {
   "cell_type": "code",
   "execution_count": 9,
   "id": "8f60bfa2",
   "metadata": {},
   "outputs": [
    {
     "name": "stdout",
     "output_type": "stream",
     "text": [
      "5\n",
      "120\n"
     ]
    }
   ],
   "source": [
    "#factorial of a number\n",
    "n=int(input())\n",
    "if(n==1 or n==0):\n",
    "    print(1)\n",
    "else:\n",
    "    print(n*fact(n-1))"
   ]
  },
  {
   "cell_type": "code",
   "execution_count": 12,
   "id": "d177c994",
   "metadata": {},
   "outputs": [
    {
     "name": "stdout",
     "output_type": "stream",
     "text": [
      "5\n",
      "120\n"
     ]
    }
   ],
   "source": [
    "#factorial of a number\n",
    "n=int(input())\n",
    "sum=1\n",
    "for i in range(1,n+1):\n",
    "    sum=sum*i\n",
    "print(sum)"
   ]
  },
  {
   "cell_type": "code",
   "execution_count": 14,
   "id": "7a7c2b33",
   "metadata": {},
   "outputs": [
    {
     "name": "stdout",
     "output_type": "stream",
     "text": [
      "5\n",
      "fibonacci series: 0 1 1 2 3 \n",
      "\n"
     ]
    }
   ],
   "source": [
    "#fibonacci series\n",
    "x=int(input())\n",
    "n1=0\n",
    "n2=1\n",
    "print(\"fibonacci series:\",n1,n2,end=' ')\n",
    "for i in range(2,x):\n",
    "    n3=n1+n2\n",
    "    n1=n2\n",
    "    n2=n3\n",
    "    print(n3,end=' ')\n",
    "print(\"\\n\")   \n"
   ]
  },
  {
   "cell_type": "code",
   "execution_count": 38,
   "id": "f899bba1",
   "metadata": {},
   "outputs": [
    {
     "name": "stdout",
     "output_type": "stream",
     "text": [
      "3\n",
      "3 is a prime number\n"
     ]
    }
   ],
   "source": [
    "#prime or not\n",
    "n=int(input())\n",
    "if n>1:\n",
    "    for i in range(2,n):\n",
    "        if(n%i)==0:\n",
    "            print(n,\"is not a prime number\")\n",
    "            break\n",
    "    else:\n",
    "        print(n,\"is a prime number\")\n",
    "else:\n",
    "    print(n,\"is not a prime number\")"
   ]
  },
  {
   "cell_type": "code",
   "execution_count": 51,
   "id": "043e036c",
   "metadata": {},
   "outputs": [
    {
     "name": "stdout",
     "output_type": "stream",
     "text": [
      "['a', 'B', ('ram', 'sita'), ('', '')]\n"
     ]
    }
   ],
   "source": [
    "#write a python program to remove an empty tuple(s) from alist of tuples\n",
    "list1=['a','B',(),('ram','sita'),('','')]\n",
    "for i in list1:\n",
    "    if(len(i)==0):\n",
    "        list1.remove(i)\n",
    "print(list1)"
   ]
  },
  {
   "cell_type": "code",
   "execution_count": 49,
   "id": "fe324c56",
   "metadata": {},
   "outputs": [
    {
     "name": "stdout",
     "output_type": "stream",
     "text": [
      "20.8\n"
     ]
    }
   ],
   "source": [
    "#to calculate the average of the numbers in the given list\n",
    "list=[13,25,19,20,27]\n",
    "sum=0\n",
    "for i in list:\n",
    "    sum+=i\n",
    "print(sum/len(list))"
   ]
  },
  {
   "cell_type": "code",
   "execution_count": 48,
   "id": "91d89f8a",
   "metadata": {},
   "outputs": [
    {
     "name": "stdout",
     "output_type": "stream",
     "text": [
      "19 20 25 13 27\n",
      "20.8\n"
     ]
    }
   ],
   "source": [
    "#to calculate the average of the numbers in the given list\n",
    "list = [int(i) for i in (input().split())]\n",
    "s = 0\n",
    "for i in list:\n",
    "    s+=i\n",
    "print(s/len(list))"
   ]
  },
  {
   "cell_type": "code",
   "execution_count": 47,
   "id": "cb87e97a",
   "metadata": {},
   "outputs": [
    {
     "name": "stdout",
     "output_type": "stream",
     "text": [
      "red green white black pink yellow\n",
      "['green', 'white', 'black']\n"
     ]
    }
   ],
   "source": [
    "'''write a python program to print a specified list after removing the 0Th,4th and 5th elements.\n",
    "sample list:      ['red','green','white','black','pink','yellow']\n",
    "expected output:  ['green','white','black']'''\n",
    "l=input().split()\n",
    "s=[]\n",
    "for i in range(len(l)):\n",
    "    if i==0 or i==4 or i==5:\n",
    "        continue\n",
    "    else:\n",
    "        s.append(l[i])\n",
    "print(s)"
   ]
  },
  {
   "cell_type": "code",
   "execution_count": 52,
   "id": "a0a447bf",
   "metadata": {},
   "outputs": [],
   "source": [
    "#to generate all permutations of a list in python"
   ]
  },
  {
   "cell_type": "code",
   "execution_count": 53,
   "id": "833c4df0",
   "metadata": {},
   "outputs": [
    {
     "name": "stdout",
     "output_type": "stream",
     "text": [
      "1 2 3 4\n",
      "24\n"
     ]
    }
   ],
   "source": [
    "#to calculate the product,multiplying all the numbers of a given tuple\n",
    "t=input().split()\n",
    "t=(int(i) for i in t)\n",
    "prod=1\n",
    "for i in t:\n",
    "    prod=prod*i\n",
    "print(prod)"
   ]
  },
  {
   "cell_type": "code",
   "execution_count": 57,
   "id": "d6cc4c4c",
   "metadata": {},
   "outputs": [
    {
     "name": "stdout",
     "output_type": "stream",
     "text": [
      "hello\n",
      "l=2\n"
     ]
    }
   ],
   "source": [
    "#counting repeated characters in a string\n",
    "s=input()\n",
    "l=[]\n",
    "for i in s:\n",
    "    \n",
    "    if s.count(i,0,len(s))>1 and i not in l:\n",
    "        print(i,end=\"=\")\n",
    "        print(s.count(i,0,len(s)))\n",
    "    l.append(i)"
   ]
  },
  {
   "cell_type": "code",
   "execution_count": 59,
   "id": "c38d4919",
   "metadata": {},
   "outputs": [
    {
     "name": "stdout",
     "output_type": "stream",
     "text": [
      "helo\n",
      "oleh\n"
     ]
    }
   ],
   "source": [
    "#reverse of a string if its length is a multiple of 4\n",
    "s=input()\n",
    "if(len(s)%4==0):\n",
    "    print(s[::-1])\n",
    "else:\n",
    "    print(s)"
   ]
  },
  {
   "cell_type": "code",
   "execution_count": 56,
   "id": "14fd5551",
   "metadata": {},
   "outputs": [],
   "source": [
    "#to separate even odd and zeros from a list"
   ]
  },
  {
   "cell_type": "code",
   "execution_count": null,
   "id": "e40e8e3e",
   "metadata": {},
   "outputs": [],
   "source": [
    "#split a given dictionary of lists into list of dictionaries "
   ]
  }
 ],
 "metadata": {
  "kernelspec": {
   "display_name": "Python 3 (ipykernel)",
   "language": "python",
   "name": "python3"
  },
  "language_info": {
   "codemirror_mode": {
    "name": "ipython",
    "version": 3
   },
   "file_extension": ".py",
   "mimetype": "text/x-python",
   "name": "python",
   "nbconvert_exporter": "python",
   "pygments_lexer": "ipython3",
   "version": "3.9.12"
  }
 },
 "nbformat": 4,
 "nbformat_minor": 5
}
