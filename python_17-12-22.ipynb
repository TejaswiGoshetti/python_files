{
 "cells": [
  {
   "cell_type": "markdown",
   "id": "39e660f7",
   "metadata": {},
   "source": [
    "# Abstract class-\n",
    " it is the process of handling the information by hiding informal or unnecessary information of the user"
   ]
  },
  {
   "cell_type": "code",
   "execution_count": 6,
   "id": "baf7e70d",
   "metadata": {},
   "outputs": [
    {
     "name": "stdout",
     "output_type": "stream",
     "text": [
      "sweet vitamin A golden yellow\n",
      "sour vitamin C orange\n"
     ]
    }
   ],
   "source": [
    "class fruit:\n",
    "    def taste(self):\n",
    "        raise NotImplementError()  #abs lacks required derived class by raising an exception\n",
    "    def rich(self):\n",
    "        raise NotImplementError()\n",
    "    def color(self):\n",
    "        raise NotImplementError()\n",
    "class mango(fruit):\n",
    "    def taste(self):\n",
    "        return 'sweet'\n",
    "    def rich(self):\n",
    "        return 'vitamin A'\n",
    "    def color(self):\n",
    "        return 'golden yellow'\n",
    "class orange(fruit):\n",
    "    def taste(self):\n",
    "        return 'sour'\n",
    "    def rich(self):\n",
    "        return 'vitamin C'\n",
    "    def color(self):\n",
    "        return 'orange'\n",
    "Alphanso=mango()\n",
    "print(Alphanso.taste(),Alphanso.rich(),Alphanso.color())\n",
    "Alphanso=orange()\n",
    "print(Alphanso.taste(),Alphanso.rich(),Alphanso.color())"
   ]
  },
  {
   "cell_type": "markdown",
   "id": "b22f2501",
   "metadata": {},
   "source": [
    "# polymorphism"
   ]
  },
  {
   "cell_type": "code",
   "execution_count": 13,
   "id": "cb84c361",
   "metadata": {},
   "outputs": [
    {
     "name": "stdout",
     "output_type": "stream",
     "text": [
      "result is..\n",
      "( 4 + 6 i )\n"
     ]
    }
   ],
   "source": [
    "#program to intervene polymorphism on a complex number\n",
    "class Complex():\n",
    "    def __init__(self):\n",
    "        self.real=0\n",
    "        self.img=0\n",
    "    def setValue(self,real,img):\n",
    "        self.real=real\n",
    "        self.img=img\n",
    "    def __add__(self,c):\n",
    "        temp=Complex()\n",
    "        temp.real=self.real+c.real\n",
    "        temp.img=self.img+c.img\n",
    "        return temp\n",
    "    def display(self):\n",
    "        print('(',self.real,'+',self.img,'i )')\n",
    "c1=Complex()\n",
    "c1.setValue(1,2)\n",
    "c2=Complex()\n",
    "c2.setValue(3,4)\n",
    "c3=c1+c2\n",
    "print('result is..')\n",
    "c3.display()"
   ]
  },
  {
   "cell_type": "code",
   "execution_count": 14,
   "id": "efe21c36",
   "metadata": {},
   "outputs": [
    {
     "name": "stdout",
     "output_type": "stream",
     "text": [
      "enter rectangle len:4\n",
      "enter rectangle breadth5\n",
      "area of a rectangle 20.0\n",
      "enter triangle base:20\n",
      "enter triangle height:10\n",
      "area of a triangle 100.0\n"
     ]
    }
   ],
   "source": [
    "#Program that has abstract class to derive two classes rectangle and triangle from polygon class\n",
    "#write the methods to get their details and dimensions and hence calculate the area respectviely\n",
    "class polygon:\n",
    "    def get_data(self):\n",
    "        raise notImplementedError()\n",
    "    def area(self):\n",
    "        raise notImplementedError()\n",
    "class rectangle(polygon):\n",
    "    def get_data(self):\n",
    "        self.length=float(input(\"enter rectangle len:\"))\n",
    "        self.breadth=float(input('enter rectangle breadth'))\n",
    "    def area(self):\n",
    "        return self.length*self.breadth\n",
    "class triangle(polygon):\n",
    "    def get_data(self):\n",
    "        self.base=float(input(\"enter triangle base:\"))\n",
    "        self.height=float(input('enter triangle height:'))\n",
    "    def area(self):\n",
    "        return 0.5*self.base*self.height\n",
    "R=rectangle()\n",
    "R.get_data()\n",
    "print('area of a rectangle',R.area())\n",
    "T=triangle()\n",
    "T.get_data()\n",
    "print('area of a triangle',T.area())"
   ]
  },
  {
   "cell_type": "markdown",
   "id": "4145558b",
   "metadata": {},
   "source": [
    "# Encapsulation\n",
    "    - public members\n",
    "    - private members\n",
    "    - protected members"
   ]
  },
  {
   "cell_type": "code",
   "execution_count": 17,
   "id": "27a1eef7",
   "metadata": {},
   "outputs": [
    {
     "name": "stdout",
     "output_type": "stream",
     "text": [
      "harry roll num is 229\n"
     ]
    }
   ],
   "source": [
    "#encapsualing public members\n",
    "class pub:\n",
    "    def __init__(self,name,num):\n",
    "        self.name=name\n",
    "        self.num=num\n",
    "    def Num(self):\n",
    "        print(self.name,'roll num is',self.num)\n",
    "obj=pub('harry',229)\n",
    "obj.Num()"
   ]
  },
  {
   "cell_type": "code",
   "execution_count": 19,
   "id": "f9c7facb",
   "metadata": {},
   "outputs": [
    {
     "name": "stdout",
     "output_type": "stream",
     "text": [
      "50\n"
     ]
    }
   ],
   "source": [
    "#program to overload the __call__ method\n",
    "class multi:\n",
    "    def __init__(self,num):\n",
    "        self.num=num\n",
    "    def __call__(self,o):\n",
    "        return self.num*o\n",
    "x=multi(10)\n",
    "print(x(5))"
   ]
  },
  {
   "cell_type": "code",
   "execution_count": 23,
   "id": "0117372a",
   "metadata": {},
   "outputs": [
    {
     "name": "stdout",
     "output_type": "stream",
     "text": [
      "list is......\n",
      "[1, 2, 3, 4, 5, 6, 7, 8, 9]\n",
      "enter the index of the list5\n",
      "6\n",
      "enter position you want to modify36\n",
      "[1, 2, 3, 4, 5, 36, 7, 8, 9]\n",
      "the length of list is 9\n"
     ]
    }
   ],
   "source": [
    "#program to override get-item and set-item methods\n",
    "class mylist:\n",
    "    def __init__(self,List):\n",
    "        self.List=List\n",
    "    def __getitem__(self,List):\n",
    "         return self.List[index]\n",
    "    def __setitem__(self,index,num):\n",
    "        self.List[index]=num\n",
    "    def __len__(self):\n",
    "        return len(self.List)\n",
    "    def display(self):\n",
    "        print(self.List)\n",
    "L=mylist([1,2,3,4,5,6,7,8,9])\n",
    "print('list is......')\n",
    "L.display()\n",
    "index=int(input('enter the index of the list'))\n",
    "print(L[index])\n",
    "num=int(input('enter position you want to modify'))\n",
    "L[index]=num\n",
    "L.display()\n",
    "print('the length of list is',len(L))"
   ]
  },
  {
   "cell_type": "code",
   "execution_count": 26,
   "id": "f22b9253",
   "metadata": {},
   "outputs": [
    {
     "name": "stdout",
     "output_type": "stream",
     "text": [
      "n is = -14\n",
      "abs(n) is = 14\n",
      "converting to float 14.0\n",
      "converting to hexa 0xe\n",
      "converting to octa 0o16\n"
     ]
    }
   ],
   "source": [
    "#special or miscellaneous functions in overloading\n",
    "class number:\n",
    "    def __init__(self,num):\n",
    "        self.num=num\n",
    "    def display(self):\n",
    "        return self.num\n",
    "    def __abs__(self):\n",
    "        return abs(self.num)\n",
    "    def __float__(self):\n",
    "        return float(self.num)\n",
    "    def __hex__(self):\n",
    "        return hex(self.num)\n",
    "    def __oct__(self):\n",
    "        return oct(self.num)\n",
    "    def __setitem__(self,num):\n",
    "        self.num=num\n",
    "n=number(-14)\n",
    "print('n is =',n.display())\n",
    "print('abs(n) is =',abs(n))\n",
    "n=abs(n)\n",
    "print('converting to float',float(n))\n",
    "print('converting to hexa',hex(n))\n",
    "print('converting to octa',oct(n))"
   ]
  },
  {
   "cell_type": "markdown",
   "id": "e4a461cb",
   "metadata": {},
   "source": [
    "# inheritance"
   ]
  },
  {
   "cell_type": "code",
   "execution_count": 40,
   "id": "6b1e30df",
   "metadata": {},
   "outputs": [
    {
     "name": "stdout",
     "output_type": "stream",
     "text": [
      "------teacher class-------\n",
      "name is  shiva\n",
      "age is 43\n",
      "experience is 20\n",
      "research area JSS\n",
      "-------student class--------\n",
      "name is  sophie\n",
      "age is 20\n",
      "courses= B.E\n",
      "marks= 78\n"
     ]
    }
   ],
   "source": [
    "#to visualize inheritance flow\n",
    "class person:\n",
    "    def __init__(self,name,age):\n",
    "        self.name=name\n",
    "        self.age=age\n",
    "    def display(self):\n",
    "        print(\"name is \",self.name)\n",
    "        print('age is',self.age)\n",
    "class teacher(person):\n",
    "    def __init__(self,name,age,exp,rarea):\n",
    "        person.__init__(self,name,age)\n",
    "        self.exp=exp\n",
    "        self.rarea=rarea\n",
    "    def displaydata(self):\n",
    "        person.display(self)\n",
    "        print('experience is',self.exp)\n",
    "        print('research area',self.rarea)\n",
    "class student(person):\n",
    "    def __init__(self,name,age,course,marks):\n",
    "        person.__init__(self,name,age)\n",
    "        self.course=course\n",
    "        self.marks=marks\n",
    "    def displaydata(self):\n",
    "        person.display(self)\n",
    "        print('courses=',self.course)\n",
    "        print('marks=',self.marks)\n",
    "print('------teacher class-------')\n",
    "T=teacher('shiva',43,20,'JSS')\n",
    "T.displaydata()\n",
    "print('-------student class--------')\n",
    "S=student('sophie',20,'B.E',78)\n",
    "S.displaydata()"
   ]
  },
  {
   "cell_type": "code",
   "execution_count": 32,
   "id": "f8518281",
   "metadata": {},
   "outputs": [
    {
     "name": "stdout",
     "output_type": "stream",
     "text": [
      "base class 1\n"
     ]
    }
   ],
   "source": [
    "# program to invoke __init__ in multiple inheritance\n",
    "class base1(object):\n",
    "    def __init__(self):\n",
    "        print('base class 1')\n",
    "class base2(object):\n",
    "    def __init__(self):\n",
    "        print('base class 2')\n",
    "class derived(base1,base2):\n",
    "    pass\n",
    "D=derived() "
   ]
  },
  {
   "cell_type": "code",
   "execution_count": 34,
   "id": "5967d517",
   "metadata": {},
   "outputs": [
    {
     "name": "stdout",
     "output_type": "stream",
     "text": [
      "base class 1\n",
      "base class 2\n",
      "derived class\n"
     ]
    }
   ],
   "source": [
    "#program to call constructor of a base class from super\n",
    "class base1(object):\n",
    "    def __init__(self):\n",
    "        print('base class 1')\n",
    "        super(base1,self).__init__()\n",
    "class base2(object):\n",
    "    def __init__(self):\n",
    "        print('base class 2')\n",
    "class derived(base1,base2):\n",
    "     def __init__(self):\n",
    "        super(derived,self).__init__()\n",
    "        print('derived class')\n",
    "D=derived()"
   ]
  },
  {
   "cell_type": "code",
   "execution_count": 39,
   "id": "756f92ba",
   "metadata": {},
   "outputs": [
    {
     "name": "stdout",
     "output_type": "stream",
     "text": [
      "------teacher class-------\n",
      "name is  shiva\n",
      "age is 43\n",
      "experience is 20\n",
      "research area JSS\n",
      "-------student class--------\n",
      "name is  sophie\n",
      "age is 20\n",
      "courses= B.E\n",
      "marks= 78\n",
      "t is teacher: True\n",
      "t is integer: False\n",
      "t is person: True\n",
      "t is object: True\n"
     ]
    }
   ],
   "source": [
    "class person:\n",
    "    def __init__(self,name,age):\n",
    "        self.name=name\n",
    "        self.age=age\n",
    "    def display(self):\n",
    "        print(\"name is \",self.name)\n",
    "        print('age is',self.age)\n",
    "class teacher(person):\n",
    "    def __init__(self,name,age,exp,rarea):\n",
    "        person.__init__(self,name,age)\n",
    "        self.exp=exp\n",
    "        self.rarea=rarea\n",
    "    def displaydata(self):\n",
    "        person.display(self)\n",
    "        print('experience is',self.exp)\n",
    "        print('research area',self.rarea)\n",
    "class student(person):\n",
    "    def __init__(self,name,age,course,marks):\n",
    "        person.__init__(self,name,age)\n",
    "        self.course=course\n",
    "        self.marks=marks\n",
    "    def displaydata(self):\n",
    "        person.display(self)\n",
    "        print('courses=',self.course)\n",
    "        print('marks=',self.marks)\n",
    "print('------teacher class-------')\n",
    "T=teacher('shiva',43,20,'JSS')\n",
    "T.displaydata()\n",
    "print('-------student class--------')\n",
    "S=student('sophie',20,'B.E',78)\n",
    "S.displaydata()\n",
    "print('t is teacher:',isinstance(T,teacher))\n",
    "print('t is integer:',isinstance(T,int))\n",
    "print('t is person:',isinstance(T,person))\n",
    "print('t is object:',isinstance(T,object))"
   ]
  },
  {
   "cell_type": "code",
   "execution_count": 38,
   "id": "46f5fbd7",
   "metadata": {},
   "outputs": [
    {
     "name": "stdout",
     "output_type": "stream",
     "text": [
      "name is...\n",
      "qualification is phd\n",
      "experience is 22 yrs\n"
     ]
    }
   ],
   "source": [
    "class person:\n",
    "    def name(self):\n",
    "        print('name is...')\n",
    "class teacher(person):\n",
    "    def qual(self):\n",
    "        print('qualification is phd')\n",
    "class hod(teacher): #class derived from teacher   person->teacher ->hod\n",
    "    def expe(self):\n",
    "        print('experience is 22 yrs')\n",
    "HOD=hod()\n",
    "HOD.name()\n",
    "HOD.qual()\n",
    "HOD.expe()"
   ]
  },
  {
   "cell_type": "code",
   "execution_count": 43,
   "id": "0f7a3726",
   "metadata": {},
   "outputs": [
    {
     "name": "stdout",
     "output_type": "stream",
     "text": [
      "__________eligibility to apply__________\n",
      "academic score 90% above\n",
      "EEE score----60% and above\n"
     ]
    }
   ],
   "source": [
    "#multi path inheritance\n",
    "class student:\n",
    "    def name(self):\n",
    "        print(\"name....\")\n",
    "class academic(student):\n",
    "    def acad_score(self):\n",
    "        print('academic score 90% above')\n",
    "class EEE(student):\n",
    "    def EEE_score(self):\n",
    "        print('EEE score----60% and above')\n",
    "class result(academic,EEE):\n",
    "    def eligibility(self):\n",
    "        print('__________eligibility to apply__________')\n",
    "        self.acad_score()\n",
    "        self.EEE_score()\n",
    "r=result()\n",
    "r.eligibility()"
   ]
  },
  {
   "cell_type": "code",
   "execution_count": null,
   "id": "a9088b7c",
   "metadata": {},
   "outputs": [],
   "source": []
  }
 ],
 "metadata": {
  "kernelspec": {
   "display_name": "Python 3 (ipykernel)",
   "language": "python",
   "name": "python3"
  },
  "language_info": {
   "codemirror_mode": {
    "name": "ipython",
    "version": 3
   },
   "file_extension": ".py",
   "mimetype": "text/x-python",
   "name": "python",
   "nbconvert_exporter": "python",
   "pygments_lexer": "ipython3",
   "version": "3.9.12"
  }
 },
 "nbformat": 4,
 "nbformat_minor": 5
}
